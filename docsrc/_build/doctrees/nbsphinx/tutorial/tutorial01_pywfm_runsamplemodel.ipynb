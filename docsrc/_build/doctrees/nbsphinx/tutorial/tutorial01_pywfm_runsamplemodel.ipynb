{
 "cells": [
  {
   "cell_type": "markdown",
   "metadata": {},
   "source": [
    "# PyWFM Tutorial 1\n",
    "Created by: Tyler Hatch/DWR\n",
    "\n",
    "**Description:** This tutorial walks a user of pywfm through how to run the IWFM Sample Model from python"
   ]
  },
  {
   "cell_type": "markdown",
   "metadata": {},
   "source": [
    "# Getting Started"
   ]
  },
  {
   "cell_type": "code",
   "execution_count": 1,
   "metadata": {},
   "outputs": [],
   "source": [
    "import numpy as np\n",
    "import pandas as pd\n",
    "import matplotlib.pyplot as plt"
   ]
  },
  {
   "cell_type": "code",
   "execution_count": 2,
   "metadata": {},
   "outputs": [],
   "source": [
    "from pywfm import IWFMModel"
   ]
  },
  {
   "cell_type": "markdown",
   "metadata": {},
   "source": [
    "#  Create a Function to Perform the Simulation"
   ]
  },
  {
   "cell_type": "code",
   "execution_count": 3,
   "metadata": {},
   "outputs": [],
   "source": [
    "def run_model(model):\n",
    "    ''' uses an IWFM model object to run a model simulation '''\n",
    "    while not model.is_end_of_simulation():\n",
    "        # advance the simulation time one time step forward\n",
    "        model.advance_time()\n",
    "\n",
    "        # read all time series data from input files\n",
    "        model.read_timeseries_data()\n",
    "\n",
    "        # Simulate the hydrologic process for the timestep\n",
    "        model.simulate_for_one_timestep()\n",
    "\n",
    "        # print the results to the user-specified output files\n",
    "        model.print_results()\n",
    "\n",
    "        # advance the state of the hydrologic system in time\n",
    "        model.advance_state()"
   ]
  },
  {
   "cell_type": "markdown",
   "metadata": {},
   "source": [
    "# Set Paths to the IWFM DLL, preprocessor input file, and simulation input file "
   ]
  },
  {
   "cell_type": "code",
   "execution_count": null,
   "metadata": {},
   "outputs": [],
   "source": [
    "# specify path to IWFM DLL\n",
    "dll = '../../DLL/Bin/IWFM2015_C_x64.dll'\n",
    "    \n",
    "# specify paths to preprocessor and simulation main files\n",
    "pp_file = '../Preprocessor/PreProcessor_MAIN.IN'\n",
    "sim_file = 'Simulation_MAIN.IN'"
   ]
  },
  {
   "cell_type": "markdown",
   "metadata": {},
   "source": [
    "# Create the Model Object and Run the Simulation"
   ]
  },
  {
   "cell_type": "code",
   "execution_count": null,
   "metadata": {},
   "outputs": [],
   "source": [
    "with IWFMModel(dll, pp_file, sim_file, is_for_inquiry=0) as sm:\n",
    "    run_model(sm)"
   ]
  }
 ],
 "metadata": {
  "kernelspec": {
   "display_name": "Python 3",
   "language": "python",
   "name": "python3"
  },
  "language_info": {
   "codemirror_mode": {
    "name": "ipython",
    "version": 3
   },
   "file_extension": ".py",
   "mimetype": "text/x-python",
   "name": "python",
   "nbconvert_exporter": "python",
   "pygments_lexer": "ipython3",
   "version": "3.7.9"
  }
 },
 "nbformat": 4,
 "nbformat_minor": 4
}

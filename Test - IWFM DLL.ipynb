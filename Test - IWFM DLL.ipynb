{
 "cells": [
  {
   "cell_type": "code",
   "execution_count": null,
   "metadata": {},
   "outputs": [],
   "source": [
    "import os\n",
    "import datetime\n",
    "import ctypes\n",
    "import numpy as np\n",
    "import pandas as pd\n",
    "import matplotlib.pyplot as plt\n",
    "from matplotlib.path import Path\n",
    "import matplotlib.patches as patches\n",
    "\n",
    "%matplotlib inline"
   ]
  },
  {
   "cell_type": "code",
   "execution_count": null,
   "metadata": {},
   "outputs": [],
   "source": [
    "from IWFM_DLL import IWFM_Model"
   ]
  },
  {
   "cell_type": "code",
   "execution_count": null,
   "metadata": {},
   "outputs": [],
   "source": [
    "dll_file = r'C:\\Users\\hatch\\Desktop\\IWFM\\IWFM_DLL\\IWFM2015_C_x64.dll'\n",
    "#dll_file = r'C:\\Users\\hatch\\Desktop\\IWFM\\IWFM_DLL\\IWFM2015_C_x64_D.dll'"
   ]
  },
  {
   "cell_type": "code",
   "execution_count": null,
   "metadata": {},
   "outputs": [],
   "source": [
    "preprocessor_file_name = r'C:\\temp\\C2VSimFG_v0.3.12\\Preprocessor\\C2VSimFG_Preprocessor.in'\n",
    "simulation_file_name = r'C:\\temp\\C2VSimFG_v0.3.12\\Simulation\\C2VSimFG.in'"
   ]
  },
  {
   "cell_type": "code",
   "execution_count": null,
   "metadata": {},
   "outputs": [],
   "source": [
    "x_coord_m = 564412\n",
    "y_coord_m = 4491740\n",
    "xy_fact = 3.2808"
   ]
  },
  {
   "cell_type": "code",
   "execution_count": null,
   "metadata": {},
   "outputs": [],
   "source": [
    "c2vsimfg = IWFM_Model(dll_file, preprocessor_file_name, simulation_file_name)"
   ]
  },
  {
   "cell_type": "code",
   "execution_count": null,
   "metadata": {},
   "outputs": [],
   "source": [
    "dir(c2vsimfg)"
   ]
  },
  {
   "cell_type": "code",
   "execution_count": null,
   "metadata": {},
   "outputs": [],
   "source": [
    "c2vsimfg.get_subregions_by_element()"
   ]
  },
  {
   "cell_type": "code",
   "execution_count": null,
   "metadata": {},
   "outputs": [],
   "source": [
    "c2vsimfg.get_element_info()"
   ]
  },
  {
   "cell_type": "code",
   "execution_count": null,
   "metadata": {},
   "outputs": [],
   "source": []
  },
  {
   "cell_type": "code",
   "execution_count": null,
   "metadata": {},
   "outputs": [],
   "source": [
    "%%time\n",
    "begin_date = '09/30/1974_24:00'\n",
    "end_date = '09/30/1975_24:00'\n",
    "\n",
    "iLayer = ctypes.c_int(1)\n",
    "cOutputBeginDateAndTime = ctypes.create_string_buffer(begin_date.encode('utf-8'))\n",
    "cOutputEndDateAndTime = ctypes.create_string_buffer(end_date.encode('utf-8'))\n",
    "iLenDateAndTime = ctypes.c_int(len(begin_date))\n",
    "rFact_LT = ctypes.c_double(1.0)\n",
    "iNNodes = ctypes.c_int(30179)\n",
    "iNTime = ctypes.c_int(13)\n",
    "rOutputDates = (ctypes.c_double*iNTime.value)()\n",
    "rGWHeads = ((ctypes.c_double*iNNodes.value)*iNTime.value)()\n",
    "#rGWHeads = ((ctypes.c_double*iNTime.value)*iNNodes.value)()\n",
    "iStat = ctypes.c_int(-1)\n",
    "\n",
    "c2vsimfg.dll.IW_Model_GetModelData_GWHeadsAll_ForALayer(ctypes.byref(iLayer),\n",
    "                                 cOutputBeginDateAndTime,\n",
    "                                 cOutputEndDateAndTime,\n",
    "                                 ctypes.byref(iLenDateAndTime),\n",
    "                                 ctypes.byref(rFact_LT),\n",
    "                                 ctypes.byref(iNNodes),\n",
    "                                 ctypes.byref(iNTime),\n",
    "                                 rOutputDates,\n",
    "                                 rGWHeads,\n",
    "                                 ctypes.byref(iStat))"
   ]
  },
  {
   "cell_type": "code",
   "execution_count": null,
   "metadata": {},
   "outputs": [],
   "source": [
    "heads = np.array(rGWHeads)"
   ]
  },
  {
   "cell_type": "code",
   "execution_count": null,
   "metadata": {},
   "outputs": [],
   "source": [
    "heads[0]"
   ]
  },
  {
   "cell_type": "code",
   "execution_count": null,
   "metadata": {},
   "outputs": [],
   "source": [
    "with open(r'C:\\Users\\hatch\\Desktop\\IWFM\\IWFM_DLL\\procedures_check.txt', 'w') as out_file:\n",
    "    with open(r'C:\\Users\\hatch\\Desktop\\IWFM\\IWFM_DLL\\dll_procedures.txt', 'r') as in_file:\n",
    "        for line in in_file:\n",
    "            if hasattr(c2vsimfg.dll, line.strip()):\n",
    "                check_procedure = 'PASS'\n",
    "            else:\n",
    "                check_procedure = 'FAIL'\n",
    "                \n",
    "            out_file.write(\"{} - {}\\n\".format(check_procedure, line.strip()))        "
   ]
  },
  {
   "cell_type": "code",
   "execution_count": null,
   "metadata": {},
   "outputs": [],
   "source": [
    "c2vsimfg.get_element_config(1)"
   ]
  },
  {
   "cell_type": "code",
   "execution_count": null,
   "metadata": {},
   "outputs": [],
   "source": [
    "c2vsimfg.get_node_ids()"
   ]
  },
  {
   "cell_type": "code",
   "execution_count": null,
   "metadata": {},
   "outputs": [],
   "source": [
    "c2vsimfg.get_node_coordinates()"
   ]
  },
  {
   "cell_type": "code",
   "execution_count": null,
   "metadata": {},
   "outputs": [],
   "source": [
    "c2vsimfg.get_element_info()"
   ]
  },
  {
   "cell_type": "code",
   "execution_count": null,
   "metadata": {},
   "outputs": [],
   "source": [
    "elem_data = c2vsimfg.get_element_spatial_info()"
   ]
  },
  {
   "cell_type": "code",
   "execution_count": null,
   "metadata": {},
   "outputs": [],
   "source": [
    "fig, ax =plt.subplots(figsize=(6,11))\n",
    "c2vsimfg.plot_elements(ax) #, write_to_file=True, file_name=r'C:\\temp\\C2VSimFG_v0.3.5\\elements.png')"
   ]
  },
  {
   "cell_type": "code",
   "execution_count": null,
   "metadata": {},
   "outputs": [],
   "source": [
    "version_info = c2vsimfg.get_version()\n",
    "version_info.split('\\n')"
   ]
  },
  {
   "cell_type": "code",
   "execution_count": null,
   "metadata": {},
   "outputs": [],
   "source": [
    "c2vsimfg.get_n_layers()"
   ]
  },
  {
   "cell_type": "code",
   "execution_count": null,
   "metadata": {},
   "outputs": [],
   "source": [
    "c2vsimfg.get_stratigraphy_atXYcoordinate(x_coord_m, y_coord_m, xy_fact, output_options='combined')"
   ]
  },
  {
   "cell_type": "code",
   "execution_count": null,
   "metadata": {},
   "outputs": [],
   "source": [
    "c2vsimfg.get_location_type_id('gw_head_obs')"
   ]
  },
  {
   "cell_type": "code",
   "execution_count": null,
   "metadata": {},
   "outputs": [],
   "source": [
    "c2vsimfg.get_hydrograph_coordinates('gw_head_obs')"
   ]
  },
  {
   "cell_type": "code",
   "execution_count": null,
   "metadata": {},
   "outputs": [],
   "source": [
    "c2vsimfg.get_names('gw_head_obs')"
   ]
  },
  {
   "cell_type": "code",
   "execution_count": null,
   "metadata": {},
   "outputs": [],
   "source": [
    "data_list = c2vsimfg.get_data_list('element')\n",
    "if data_list:\n",
    "    print(data_list)"
   ]
  },
  {
   "cell_type": "code",
   "execution_count": null,
   "metadata": {},
   "outputs": [],
   "source": [
    "c2vsimfg.get_n_hydrographs('gw_head_obs')"
   ]
  },
  {
   "cell_type": "code",
   "execution_count": null,
   "metadata": {},
   "outputs": [],
   "source": [
    "c2vsimfg.get_n_hydrographs('tile_drain')"
   ]
  },
  {
   "cell_type": "code",
   "execution_count": null,
   "metadata": {},
   "outputs": [],
   "source": [
    "c2vsimfg.get_n_hydrographs('stream_hydrograph_obs')"
   ]
  },
  {
   "cell_type": "code",
   "execution_count": null,
   "metadata": {},
   "outputs": [],
   "source": [
    "c2vsimfg.get_n_hydrographs('subsidence_obs')"
   ]
  },
  {
   "cell_type": "code",
   "execution_count": null,
   "metadata": {},
   "outputs": [],
   "source": [
    "c2vsimfg.get_n_hydrographs('node')"
   ]
  },
  {
   "cell_type": "code",
   "execution_count": null,
   "metadata": {},
   "outputs": [],
   "source": [
    "start_date, end_date, time_interval = c2vsimfg.get_time_specs()"
   ]
  },
  {
   "cell_type": "code",
   "execution_count": null,
   "metadata": {},
   "outputs": [],
   "source": [
    "print(start_date)\n",
    "print(end_date)\n",
    "print(time_interval)"
   ]
  },
  {
   "cell_type": "code",
   "execution_count": null,
   "metadata": {},
   "outputs": [],
   "source": [
    "c2vsimfg.get_n_data_list('node')"
   ]
  },
  {
   "cell_type": "code",
   "execution_count": null,
   "metadata": {},
   "outputs": [],
   "source": [
    "c2vsimfg.get_data_list('node')"
   ]
  },
  {
   "cell_type": "code",
   "execution_count": null,
   "metadata": {},
   "outputs": [],
   "source": [
    "c2vsimfg.get_sub_data_list('node', 0)"
   ]
  },
  {
   "cell_type": "code",
   "execution_count": null,
   "metadata": {},
   "outputs": [],
   "source": [
    "c2vsimfg._has_sub_data_list('tile_drain', 0)"
   ]
  },
  {
   "cell_type": "code",
   "execution_count": null,
   "metadata": {},
   "outputs": [],
   "source": [
    "c2vsimfg.get_output_interval('subregion', 0)"
   ]
  },
  {
   "cell_type": "code",
   "execution_count": null,
   "metadata": {},
   "outputs": [],
   "source": [
    "c2vsimfg.get_n_intervals(start_date, end_date, time_interval)"
   ]
  },
  {
   "cell_type": "code",
   "execution_count": null,
   "metadata": {},
   "outputs": [],
   "source": [
    "c2vsimfg.is_date_greater(start_date, end_date)"
   ]
  },
  {
   "cell_type": "code",
   "execution_count": null,
   "metadata": {},
   "outputs": [],
   "source": [
    "c2vsimfg.get_data_unit_id('volume')"
   ]
  },
  {
   "cell_type": "code",
   "execution_count": null,
   "metadata": {},
   "outputs": [],
   "source": [
    "#dts, data = c2vsimfg.get_model_data('gw_head_obs', 1, 0, -1, start_date, end_date, time_interval)\n",
    "dts, data = c2vsimfg.get_model_data('node', 1, 0, -1, start_date, end_date, time_interval)"
   ]
  },
  {
   "cell_type": "code",
   "execution_count": null,
   "metadata": {},
   "outputs": [],
   "source": [
    "data"
   ]
  },
  {
   "cell_type": "code",
   "execution_count": null,
   "metadata": {},
   "outputs": [],
   "source": [
    "hydrograph_stratigraphy = c2vsimfg.get_hydrograph_info('gw_head_obs')"
   ]
  },
  {
   "cell_type": "code",
   "execution_count": null,
   "metadata": {},
   "outputs": [],
   "source": [
    "hydrograph_stratigraphy"
   ]
  },
  {
   "cell_type": "code",
   "execution_count": null,
   "metadata": {},
   "outputs": [],
   "source": [
    "dates, heads = c2vsimfg.get_gwheadsall_foralayer(1, '09/30/2010', '09/30/2015')"
   ]
  },
  {
   "cell_type": "code",
   "execution_count": null,
   "metadata": {},
   "outputs": [],
   "source": [
    "count_well_names = hydrograph_stratigraphy.groupby('Name')['id'].count().to_frame()\n",
    "count_well_names.reset_index(inplace=True)"
   ]
  },
  {
   "cell_type": "code",
   "execution_count": null,
   "metadata": {},
   "outputs": [],
   "source": [
    "count_well_names[count_well_names['id'] > 4]"
   ]
  },
  {
   "cell_type": "code",
   "execution_count": null,
   "metadata": {},
   "outputs": [],
   "source": [
    "hydrograph_id = 1\n",
    "hydrograph_df = pd.DataFrame({'date': dts, 'head': data})\n",
    "hydrograph_df['GSE'] = hydrograph_stratigraphy[hydrograph_stratigraphy['id']==hydrograph_id]['GSE'].values[0]"
   ]
  },
  {
   "cell_type": "code",
   "execution_count": null,
   "metadata": {},
   "outputs": [],
   "source": [
    "observed_data_path = r'C:\\temp\\C2VSimFG_v0.3.5\\ObservedData'\n",
    "observed_data = 'Observed_GW_Levels.csv'\n",
    "observed_gw_levels = pd.read_csv(os.path.join(observed_data_path, observed_data))\n",
    "observed_gw_levels['Date'] = pd.to_datetime(observed_gw_levels['Date'], format='%Y-%m-%d')"
   ]
  },
  {
   "cell_type": "code",
   "execution_count": null,
   "metadata": {},
   "outputs": [],
   "source": [
    "hydrograph_stratigraphy[hydrograph_stratigraphy['Name'].isin(observed_gw_levels['Well_Name'].unique())]"
   ]
  },
  {
   "cell_type": "code",
   "execution_count": null,
   "metadata": {},
   "outputs": [],
   "source": [
    "observed_gw_levels.info()"
   ]
  },
  {
   "cell_type": "code",
   "execution_count": null,
   "metadata": {},
   "outputs": [],
   "source": [
    "def closest_end_of_month(dt):\n",
    "    ''' returns the date for the end of the closest month to the date provided\n",
    "    \n",
    "    Parameters\n",
    "    ----------\n",
    "    dt : datetime.datetime object\n",
    "        date being converted to end of closest month\n",
    "        \n",
    "    Returns\n",
    "    -------\n",
    "    datetime.datetime\n",
    "        date for the end of the month closest to the date provided\n",
    "    '''\n",
    "    # get number of days between date and end of the previous month\n",
    "    previous_delta = datetime.timedelta(days=dt.day)\n",
    "    \n",
    "    # determine end of the current month\n",
    "    next_month = dt.replace(day=28) + datetime.timedelta(days=4)\n",
    "    end_of_current_month = next_month - datetime.timedelta(days=next_month.day)\n",
    "    \n",
    "    # get number of days between date and end of the current month\n",
    "    next_delta = end_of_current_month - dt\n",
    "    \n",
    "    # use the smaller delta to return the closest\n",
    "    if previous_delta < next_delta:\n",
    "        return dt - previous_delta\n",
    "    else:\n",
    "        return end_of_current_month"
   ]
  },
  {
   "cell_type": "code",
   "execution_count": null,
   "metadata": {},
   "outputs": [],
   "source": [
    "observed_gw_levels['Model_Date'] = observed_gw_levels['Date'].apply(closest_end_of_month)"
   ]
  },
  {
   "cell_type": "code",
   "execution_count": null,
   "metadata": {},
   "outputs": [],
   "source": [
    "# set path for saving plots\n",
    "fig_path = r'C:\\temp\\C2VSimFG_v0.3.5\\Results\\Plots'\n",
    "\n",
    "# generate figure geometry\n",
    "fig = plt.figure(figsize=(17,11))\n",
    "gs = fig.add_gridspec(ncols=7, nrows=6)\n",
    "ax1 = fig.add_subplot(gs[:,:3])\n",
    "ax2 = fig.add_subplot(gs[0:2,3:])\n",
    "ax3 = fig.add_subplot(gs[2:4,3:5])\n",
    "ax4 = fig.add_subplot(gs[2:4,5:])\n",
    "ax5 = fig.add_subplot(gs[4:,3:5])\n",
    "ax6 = fig.add_subplot(gs[4:,5:])\n",
    "ax = (ax3, ax4, ax5, ax6)\n",
    "\n",
    "for well_name in observed_gw_levels['Well_Name'].unique():\n",
    "    hydrograph_ids = hydrograph_stratigraphy[hydrograph_stratigraphy['Name'] == well_name]['id']\n",
    "      \n",
    "    # skip locations where number of hydrographs with a given name exceeds the number of model layers (i.e. duplicates)\n",
    "    if len(hydrograph_ids) > c2vsimfg.get_n_layers():\n",
    "        continue\n",
    "    \n",
    "    for i, hydrograph_id in enumerate(hydrograph_ids):\n",
    "        \n",
    "        # get simulated hydrograph time series\n",
    "        dts, data = c2vsimfg.get_model_data('gw_head_obs', hydrograph_id, 0, -1, start_date, end_date, time_interval)\n",
    "        hydrograph_df = pd.DataFrame({'date': dts, 'head': data})\n",
    "        \n",
    "        # add column for ground surface elevation to simulated hydrograph for plotting\n",
    "        hydrograph_df['GSE'] = hydrograph_stratigraphy[hydrograph_stratigraphy['id']==hydrograph_id]['GSE'].values[0]\n",
    "        \n",
    "        # create simulated v. observed comparision dataset\n",
    "        simulated_v_observed = observed_gw_levels[observed_gw_levels['Well_Name']==well_name].merge(hydrograph_df, left_on='Model_Date',right_on='date')\n",
    "        label = 'simulated layer {}'.format(i+1)\n",
    "        \n",
    "        # plot model elements\n",
    "        c2vsimfg.plot_elements(ax1)\n",
    "        \n",
    "        # plot all observation well locations\n",
    "        ax1.plot(hydrograph_stratigraphy['X'], hydrograph_stratigraphy['Y'], 'k.', markersize=4)\n",
    "        \n",
    "        # plot observation well of interest\n",
    "        ax1.plot(hydrograph_stratigraphy[hydrograph_stratigraphy['Name'] == well_name]['X'], \n",
    "                 hydrograph_stratigraphy[hydrograph_stratigraphy['Name'] == well_name]['Y'], 'ro')\n",
    "        \n",
    "        # annotate observation well of interest\n",
    "        ax1.annotate(well_name, \n",
    "                     xy=(hydrograph_stratigraphy[hydrograph_stratigraphy['Name'] == well_name]['X'].values[0],\n",
    "                         hydrograph_stratigraphy[hydrograph_stratigraphy['Name'] == well_name]['Y'].values[0]),\n",
    "                     xytext=(hydrograph_stratigraphy[hydrograph_stratigraphy['Name'] == well_name]['X'].values[0] + 100000, \n",
    "                             hydrograph_stratigraphy[hydrograph_stratigraphy['Name'] == well_name]['Y'].values[0] - 50000), \n",
    "                     arrowprops=dict(arrowstyle=\"->\", connectionstyle=\"arc3,rad=0.3\", relpos=(0., 0.)))\n",
    "        \n",
    "        # plot simulated hydrograph\n",
    "        ax2.plot('date', 'head', data=hydrograph_df, label=label)\n",
    "        \n",
    "        # plot simulated v. observed scatter plots\n",
    "        ax[i].plot('GWL', 'head', 'o', data=simulated_v_observed, markerfacecolor='none')\n",
    "        ax[i].plot('GWL', 'GWL', 'k', data=observed_gw_levels[observed_gw_levels['Well_Name']==well_name])\n",
    "        ax[i].set_title(\"Simulated v. Observed for Layer {}\".format(i+1))\n",
    "        ax[i].set_xlabel('Observed Head (ft)')\n",
    "        ax[i].set_ylabel('Simulated Head (ft)')\n",
    "        ax[i].grid()\n",
    "    \n",
    "    # plot observed data hydrograph\n",
    "    ax2.plot('Date', 'GWL', 'o', data=observed_gw_levels[observed_gw_levels['Well_Name'] == well_name], \n",
    "             markerfacecolor='none', label='observed')\n",
    "    \n",
    "    # plot ground surface elevation\n",
    "    ax2.axhline(hydrograph_stratigraphy[hydrograph_stratigraphy['id']==hydrograph_id]['GSE'].values[0],\n",
    "                color='brown',\n",
    "                label='ground surface')\n",
    "    \n",
    "    # format plot layout\n",
    "    ax1.grid()\n",
    "    ax2.set_title('Groundwater Hydrographs for Well {}'.format(well_name))\n",
    "    ax2.set_ylabel('Head (ft)')\n",
    "    ax2.set_xlabel('Time')\n",
    "    ax2.set_xlim(left=hydrograph_df['date'].min(), right=hydrograph_df['date'].max())\n",
    "    ax2.grid()\n",
    "    ax2.legend(loc='right', ncol=1, bbox_to_anchor=(1.0, 0.75))\n",
    "    gs.tight_layout(fig)\n",
    "    \n",
    "    # save figure to file\n",
    "    fig_name = 'Hydrograph_Well_{}.png'.format(well_name)\n",
    "    plt.savefig(os.path.join(fig_path, fig_name))\n",
    "    \n",
    "    # clear axes\n",
    "    ax1.cla()\n",
    "    ax2.cla()\n",
    "    ax3.cla()\n",
    "    ax4.cla()\n",
    "    ax5.cla()\n",
    "    ax6.cla()\n",
    "    \n",
    "# clear figure\n",
    "plt.clf()\n",
    "plt.close('all')"
   ]
  },
  {
   "cell_type": "code",
   "execution_count": null,
   "metadata": {},
   "outputs": [],
   "source": [
    "fig = plt.figure(figsize=(17,11))\n",
    "gs = fig.add_gridspec(ncols=7, nrows=6)\n",
    "ax1 = fig.add_subplot(gs[:,:3])\n",
    "ax2 = fig.add_subplot(gs[0:2,3:])\n",
    "ax3 = fig.add_subplot(gs[2:4,3:5])\n",
    "ax4 = fig.add_subplot(gs[2:4,5:])\n",
    "ax5 = fig.add_subplot(gs[4:,3:5])\n",
    "ax6 = fig.add_subplot(gs[4:,5:])\n",
    "# plot model elements\n",
    "c2vsimfg.plot_elements(ax1)\n",
    "\n",
    "# get plot bounds for map\n",
    "xmin, xmax = ax1.get_xlim()\n",
    "ymin, ymax = ax1.get_ylim()\n",
    "\n",
    "print(xmin)\n",
    "print(xmax)\n",
    "print(ymin)\n",
    "print(ymax)\n",
    "\n",
    "# plot all observation well locations\n",
    "ax1.plot(hydrograph_stratigraphy['X'], hydrograph_stratigraphy['Y'], 'k.', markersize=4)\n",
    "\n",
    "well_name = observed_gw_levels['Well_Name'].unique()[0]\n",
    "\n",
    "# plot observation well\n",
    "ax1.plot(hydrograph_stratigraphy[hydrograph_stratigraphy['Name'] == well_name]['X'], \n",
    "         hydrograph_stratigraphy[hydrograph_stratigraphy['Name'] == well_name]['Y'], 'ro')\n",
    "\n",
    "# annotate observation well\n",
    "ann = ax1.annotate('Observation Well:\\n{}'.format(well_name), \n",
    "             xy=(hydrograph_stratigraphy[hydrograph_stratigraphy['Name'] == well_name]['X'].values[0], hydrograph_stratigraphy[hydrograph_stratigraphy['Name'] == well_name]['Y'].values[0]),\n",
    "             xytext=(hydrograph_stratigraphy[hydrograph_stratigraphy['Name'] == well_name]['X'].values[0] + 100000, hydrograph_stratigraphy[hydrograph_stratigraphy['Name'] == well_name]['Y'].values[0] - 50000), \n",
    "             arrowprops=dict(arrowstyle=\"->\", connectionstyle=\"arc3,rad=0.3\", relpos=(0., 0.)))\n",
    "\n",
    "# need to get bounding box for annotation text in data coordinates\n",
    "# need to get closest max and min on x-axis for model elements to y-coordinate of annotation in data coordinates\n",
    "# default label is to right and down of figure with arrow from lower left of text\n",
    "# check that right side of text label does not exceed axis limits\n",
    "# check that left side of text label is greater than the max of the closest model elements\n",
    "\n",
    "\n",
    "\n",
    "# set axis titles\n",
    "ax3.set_title(\"Simulated v. Observed for Layer {}\".format(i+1))\n",
    "ax3.set_xlabel('Observed Head (ft)')\n",
    "ax3.set_ylabel('Simulated Head (ft)')\n",
    "\n",
    "# set figure title\n",
    "#fig.suptitle('This is a somewhat long figure title', fontsize=16)\n",
    "\n",
    "# adjust bounds to fit labels\n",
    "gs.tight_layout(fig)"
   ]
  },
  {
   "cell_type": "code",
   "execution_count": null,
   "metadata": {},
   "outputs": [],
   "source": []
  },
  {
   "cell_type": "code",
   "execution_count": null,
   "metadata": {
    "scrolled": true
   },
   "outputs": [],
   "source": [
    "data"
   ]
  },
  {
   "cell_type": "code",
   "execution_count": null,
   "metadata": {},
   "outputs": [],
   "source": []
  },
  {
   "cell_type": "code",
   "execution_count": null,
   "metadata": {},
   "outputs": [],
   "source": [
    "df"
   ]
  },
  {
   "cell_type": "code",
   "execution_count": null,
   "metadata": {},
   "outputs": [],
   "source": [
    "def is_valid_feature_type(feature_type):\n",
    "    ''' checks that a provided feature type is a valid iwfm feature\n",
    "    \n",
    "    Parameters\n",
    "    ----------\n",
    "    feature_type : str\n",
    "        value to be checked to see if it is a valid IWFM feature type and can be used to generate\n",
    "        a location type id\n",
    "        \n",
    "    Returns\n",
    "    -------\n",
    "    boolean\n",
    "        True if a valid IWFM feature type\n",
    "        i.e. node, element, subregion, zone, lake, stream_node, stream_reach, tile_drain,\n",
    "        small_watershed, gw_head_obs, stream_hydrograph_obs, or subsidence_obs\n",
    "        False otherwise\n",
    "    '''\n",
    "    # check input type is a string\n",
    "    if not isinstance(feature_type, str):\n",
    "        raise TypeError('feature_type must be a string. type entered is {}.'.format(type(feature_type)))\n",
    "    \n",
    "    # list of valid feature types\n",
    "    _valid_feature_types = ['node',\n",
    "                            'element',\n",
    "                            'subregion', \n",
    "                            'zone',\n",
    "                            'lake',\n",
    "                            'stream_node',\n",
    "                            'stream_reach',\n",
    "                            'tile_drain',\n",
    "                            'small_watershed',\n",
    "                            'gw_head_obs',\n",
    "                            'stream_hydrograph_obs',\n",
    "                            'subsidence_obs'\n",
    "                            ]\n",
    "    \n",
    "    if feature_type.lower() not in _valid_feature_types:\n",
    "        return False\n",
    "    \n",
    "    return True   "
   ]
  },
  {
   "cell_type": "code",
   "execution_count": null,
   "metadata": {},
   "outputs": [],
   "source": [
    "is_valid_feature_type('')"
   ]
  },
  {
   "cell_type": "code",
   "execution_count": null,
   "metadata": {},
   "outputs": [],
   "source": [
    "def validate_feature_type(feature_type):\n",
    "    ''' performs validation that a provided feature_type is a valid IWFM feature type\n",
    "    \n",
    "    Parameters\n",
    "    ----------\n",
    "    feature_type : str\n",
    "        value to be validated that it can be used to generate a location type id\n",
    "        \n",
    "    Returns\n",
    "    -------\n",
    "    None\n",
    "        raises errors if validation checks do not pass\n",
    "    '''\n",
    "    # check input type is a string\n",
    "    if not isinstance(feature_type, str):\n",
    "        raise TypeError('feature_type must be a string. type entered is {}.'.format(type(feature_type)))\n",
    "    \n",
    "    # list of valid feature types\n",
    "    _valid_feature_types = ['node',\n",
    "                            'element',\n",
    "                            'subregion', \n",
    "                            'zone',\n",
    "                            'lake',\n",
    "                            'stream_node',\n",
    "                            'stream_reach',\n",
    "                            'tile_drain',\n",
    "                            'small_watershed',\n",
    "                            'gw_head_obs',\n",
    "                            'stream_hydrograph_obs',\n",
    "                            'subsidence_obs'\n",
    "                            ]\n",
    "    \n",
    "    if feature_type.lower() not in _valid_feature_types:\n",
    "        error_string = 'feature_type entered is not a valid IWFM feature type.\\n' + \\\n",
    "                       'feature type must be:\\n\\t-{}'.format('\\n\\t-'.join(_valid_feature_types))\n",
    "        raise ValueError(error_string)"
   ]
  },
  {
   "cell_type": "code",
   "execution_count": null,
   "metadata": {},
   "outputs": [],
   "source": [
    "validate_feature_type('node')"
   ]
  },
  {
   "cell_type": "code",
   "execution_count": null,
   "metadata": {},
   "outputs": [],
   "source": [
    "def _is_valid_iwfm_date(dt):\n",
    "    ''' returns True if date is IWFM-format date string based on:\n",
    "        string length and format MM/DD/YYYY_HH:MM\n",
    "\n",
    "    Parameters\n",
    "    ----------\n",
    "    dt : str\n",
    "        input value to check if IWFM-format date\n",
    "\n",
    "    Returns\n",
    "    -------\n",
    "    boolean\n",
    "        True if format is IWFM date\n",
    "        False if not an IWFM date \n",
    "    '''\n",
    "    if not isinstance(dt, str):\n",
    "        raise TypeError('IWFM dates must be a string')\n",
    "                \n",
    "    if len(dt) != 16:\n",
    "        return False\n",
    "            \n",
    "    if '_' not in dt or dt.index('_') != 10:\n",
    "        return False\n",
    "            \n",
    "    if ':' not in dt or dt.index(':') != 13:\n",
    "        return False\n",
    "            \n",
    "    if dt[2] != '/' or dt[5] != '/':\n",
    "        return False\n",
    "            \n",
    "    try:\n",
    "        datetime.datetime.strptime(dt, '%m/%d/%Y_%H:%M')\n",
    "    except ValueError:\n",
    "        try:\n",
    "            datetime.datetime.strptime(dt.split('_')[0], '%m/%d/%Y')\n",
    "        except ValueError:\n",
    "            return False\n",
    "        else:\n",
    "            try:\n",
    "                hour = int(dt[11:13])\n",
    "                minute = int(dt[15:])\n",
    "            except:\n",
    "                return False\n",
    "            else:\n",
    "                if hour < 0 or hour > 24:\n",
    "                    return False\n",
    "                        \n",
    "                if minute < 0 or minute > 59:\n",
    "                    return False\n",
    "                        \n",
    "                return True\n",
    "    else:\n",
    "        return True"
   ]
  },
  {
   "cell_type": "code",
   "execution_count": null,
   "metadata": {},
   "outputs": [],
   "source": [
    "def validate_iwfm_date(dt):\n",
    "    ''' performs validation that a provided value is an IWFM-format date string based on\n",
    "    string length and format MM/DD/YYYY_HH:MM\n",
    "\n",
    "    Parameters\n",
    "    ----------\n",
    "    dt : str\n",
    "        input value to check if IWFM-format date\n",
    "\n",
    "    Returns\n",
    "    -------\n",
    "    None\n",
    "        raises errors if validation checks do not pass\n",
    "    '''\n",
    "    if not isinstance(dt, str):\n",
    "        raise TypeError('IWFM dates must be a string')\n",
    "                \n",
    "    if len(dt) != 16:\n",
    "        raise ValueError(\"IWFM dates must be 16 characters in length and of format MM/DD/YYYY_HH:MM\")\n",
    "            \n",
    "    if '_' not in dt or dt.index('_') != 10:\n",
    "        raise ValueError(\"IWFM dates must have an '_' separating the date and time\")\n",
    "            \n",
    "    if ':' not in dt or dt.index(':') != 13:\n",
    "        raise ValueError(\"IWFM dates must have an ':' separating the hours from minutes\")\n",
    "            \n",
    "    if dt[2] != '/' or dt[5] != '/':\n",
    "        raise ValueError(\"IWFM dates must use '/' as separators for the month, day, year in the date\")\n",
    "            \n",
    "    try:\n",
    "        datetime.datetime.strptime(dt, '%m/%d/%Y_%H:%M')\n",
    "    except ValueError:\n",
    "        try:\n",
    "            datetime.datetime.strptime(dt.split('_')[0], '%m/%d/%Y')\n",
    "        except ValueError:\n",
    "            raise ValueError(\"Value provided: {} could not be converted to a date\".format(dt))\n",
    "        else:\n",
    "            try:\n",
    "                hour = int(dt[11:13])\n",
    "                minute = int(dt[14:])\n",
    "            except:\n",
    "                raise ValueError(\"hour or minute values are not numbers\")\n",
    "            else:\n",
    "                if hour < 0 or hour > 24:\n",
    "                    raise ValueError(\"hour value is not between 00 and 24\")\n",
    "                        \n",
    "                if minute < 0 or minute > 59:\n",
    "                    raise ValueError(\"minute value is not between 00 and 59\")\n",
    "                    \n",
    "                if hour == 24 and minute > 0:\n",
    "                    raise ValueError(\"days cannot exceed 24:00 hours\")"
   ]
  },
  {
   "cell_type": "code",
   "execution_count": null,
   "metadata": {},
   "outputs": [],
   "source": [
    "d = '02/28/2015_24:00'\n",
    "validate_iwfm_date(d)"
   ]
  },
  {
   "cell_type": "code",
   "execution_count": null,
   "metadata": {},
   "outputs": [],
   "source": [
    "def _validate_time_interval(time_interval):\n",
    "    ''' performs validation that a provided value is an IWFM-format time-interval string\n",
    "\n",
    "    Parameters\n",
    "    ----------\n",
    "    time_interval : str (not case-sensitive)\n",
    "        input value to check if IWFM-format time-interval\n",
    "\n",
    "    Returns\n",
    "    -------\n",
    "    None\n",
    "        raises errors if validation checks do not pass\n",
    "    '''\n",
    "    # check input type is a string\n",
    "    if not isinstance(time_interval, str):\n",
    "        raise TypeError('time_interval must be a string. type entered is {}.'.format(type(time_interval)))\n",
    "        \n",
    "    # list of valid time intervals\n",
    "    _valid_time_intervals = ['1MIN',\n",
    "                             '2MIN',\n",
    "                             '3MIN',\n",
    "                             '4MIN',\n",
    "                             '5MIN',\n",
    "                             '10MIN',\n",
    "                             '15MIN',\n",
    "                             '20MIN',\n",
    "                             '30MIN',\n",
    "                             '1HOUR',\n",
    "                             '2HOUR',\n",
    "                             '3HOUR',\n",
    "                             '4HOUR',\n",
    "                             '6HOUR',\n",
    "                             '8HOUR',\n",
    "                             '12HOUR',\n",
    "                             '1DAY',\n",
    "                             '1WEEK',\n",
    "                             '1MON',\n",
    "                             '1YEAR'\n",
    "                            ]\n",
    "    \n",
    "    if time_interval.upper() not in _valid_time_intervals:\n",
    "        error_string = 'time_interval entered is not a valid IWFM time interval.\\n' + \\\n",
    "                       'time_interval must be:\\n\\t-{}'.format('\\n\\t-'.join(_valid_time_intervals))\n",
    "        raise ValueError(error_string)    "
   ]
  },
  {
   "cell_type": "code",
   "execution_count": null,
   "metadata": {},
   "outputs": [],
   "source": [
    "s = '1mon'"
   ]
  },
  {
   "cell_type": "code",
   "execution_count": null,
   "metadata": {},
   "outputs": [],
   "source": [
    "validate_time_interval(s)"
   ]
  }
 ],
 "metadata": {
  "kernelspec": {
   "display_name": "Python 3",
   "language": "python",
   "name": "python3"
  },
  "language_info": {
   "codemirror_mode": {
    "name": "ipython",
    "version": 3
   },
   "file_extension": ".py",
   "mimetype": "text/x-python",
   "name": "python",
   "nbconvert_exporter": "python",
   "pygments_lexer": "ipython3",
   "version": "3.6.9"
  }
 },
 "nbformat": 4,
 "nbformat_minor": 2
}

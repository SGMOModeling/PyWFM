{
 "cells": [
  {
   "cell_type": "code",
   "execution_count": null,
   "metadata": {},
   "outputs": [],
   "source": [
    "import os\n",
    "import datetime\n",
    "import ctypes\n",
    "import numpy as np\n",
    "import pandas as pd\n",
    "import matplotlib.pyplot as plt\n",
    "from matplotlib.path import Path\n",
    "import matplotlib.patches as patches\n",
    "\n",
    "%matplotlib inline"
   ]
  },
  {
   "cell_type": "code",
   "execution_count": null,
   "metadata": {},
   "outputs": [],
   "source": [
    "from iwfmdll import IWFMModel\n",
    "from iwfmdll import IWFMBudget\n",
    "from iwfmdll import IWFMZBudget"
   ]
  },
  {
   "cell_type": "code",
   "execution_count": null,
   "metadata": {},
   "outputs": [],
   "source": [
    "with open('IWFMModel_methods.txt', 'w') as f:\n",
    "    for val in dir(IWFMModel):\n",
    "        f.write(val+'\\n')    "
   ]
  },
  {
   "cell_type": "code",
   "execution_count": null,
   "metadata": {},
   "outputs": [],
   "source": [
    "with open('IWFMBudget_methods.txt', 'w') as f:\n",
    "    for val in dir(IWFMBudget):\n",
    "        f.write(val+'\\n')   "
   ]
  },
  {
   "cell_type": "code",
   "execution_count": null,
   "metadata": {},
   "outputs": [],
   "source": [
    "with open('IWFMZBudget_methods.txt', 'w') as f:\n",
    "    for val in dir(IWFMZBudget):\n",
    "        f.write(val+'\\n')   "
   ]
  },
  {
   "cell_type": "code",
   "execution_count": null,
   "metadata": {},
   "outputs": [],
   "source": [
    "dll_file = r'C:\\Users\\hatch\\Desktop\\IWFM\\IWFM-2015.0.1273\\DLL\\Bin\\IWFM2015_C_x64.dll'\n",
    "#dll_file = r'C:\\Users\\hatch\\Desktop\\IWFM\\IWFM_DLL\\IWFM2015_C_x64_D.dll'"
   ]
  },
  {
   "cell_type": "code",
   "execution_count": null,
   "metadata": {},
   "outputs": [],
   "source": [
    "#preprocessor_file_name = r'C:\\Users\\hatch\\Desktop\\C2VSimFG\\C2VSimFG_v1.0\\Preprocessor\\C2VSimFG_Preprocessor.in'\n",
    "preprocessor_file_name = r'C:\\Users\\hatch\\Desktop\\IWFM\\IWFM-2015.0.1273\\SampleModel\\Preprocessor\\PreProcessor_MAIN.IN'\n",
    "#simulation_file_name = r'C:\\Users\\hatch\\Desktop\\C2VSimFG\\C2VSimFG_v1.0\\Simulation\\C2VSimFG.in'\n",
    "simulation_file_name = r'C:\\Users\\hatch\\Desktop\\IWFM\\IWFM-2015.0.1273\\SampleModel\\Simulation\\Simulation_MAIN.IN'"
   ]
  },
  {
   "cell_type": "code",
   "execution_count": null,
   "metadata": {},
   "outputs": [],
   "source": [
    "c2vsimfg = IWFMModel(dll_file, preprocessor_file_name, simulation_file_name)"
   ]
  },
  {
   "cell_type": "code",
   "execution_count": null,
   "metadata": {},
   "outputs": [],
   "source": [
    "c2vsimfg.get_current_date_and_time()"
   ]
  },
  {
   "cell_type": "code",
   "execution_count": null,
   "metadata": {},
   "outputs": [],
   "source": [
    "c2vsimfg.get_n_time_steps()"
   ]
  },
  {
   "cell_type": "code",
   "execution_count": null,
   "metadata": {},
   "outputs": [],
   "source": [
    "c2vsimfg.get_time_specs()"
   ]
  },
  {
   "cell_type": "code",
   "execution_count": null,
   "metadata": {},
   "outputs": [],
   "source": [
    "c2vsimfg.get_output_interval()"
   ]
  },
  {
   "cell_type": "code",
   "execution_count": null,
   "metadata": {},
   "outputs": [],
   "source": [
    "c2vsimfg.get_n_nodes()"
   ]
  },
  {
   "cell_type": "code",
   "execution_count": null,
   "metadata": {},
   "outputs": [],
   "source": [
    "c2vsimfg.get_node_coordinates()"
   ]
  },
  {
   "cell_type": "code",
   "execution_count": null,
   "metadata": {},
   "outputs": [],
   "source": [
    "c2vsimfg.get_node_ids()"
   ]
  },
  {
   "cell_type": "code",
   "execution_count": null,
   "metadata": {},
   "outputs": [],
   "source": [
    "c2vsimfg.get_n_elements()"
   ]
  },
  {
   "cell_type": "code",
   "execution_count": null,
   "metadata": {},
   "outputs": [],
   "source": [
    "c2vsimfg.get_element_ids()"
   ]
  },
  {
   "cell_type": "code",
   "execution_count": null,
   "metadata": {},
   "outputs": [],
   "source": [
    "c2vsimfg.get_element_config('32537')"
   ]
  },
  {
   "cell_type": "code",
   "execution_count": null,
   "metadata": {},
   "outputs": [],
   "source": [
    "c2vsimfg.get_n_subregions()"
   ]
  },
  {
   "cell_type": "code",
   "execution_count": null,
   "metadata": {},
   "outputs": [],
   "source": [
    "c2vsimfg.get_subregion_ids()"
   ]
  },
  {
   "cell_type": "code",
   "execution_count": null,
   "metadata": {},
   "outputs": [],
   "source": [
    "c2vsimfg.get_subregion_name(1)"
   ]
  },
  {
   "cell_type": "code",
   "execution_count": null,
   "metadata": {},
   "outputs": [],
   "source": [
    "c2vsimfg.get_subregions_by_element()"
   ]
  },
  {
   "cell_type": "code",
   "execution_count": null,
   "metadata": {},
   "outputs": [],
   "source": [
    "c2vsimfg.get_n_stream_nodes()"
   ]
  },
  {
   "cell_type": "code",
   "execution_count": null,
   "metadata": {},
   "outputs": [],
   "source": [
    "c2vsimfg.get_stream_node_ids()"
   ]
  },
  {
   "cell_type": "code",
   "execution_count": null,
   "metadata": {},
   "outputs": [],
   "source": [
    "for sn in c2vsimfg.get_stream_node_ids():\n",
    "    n_upstream_stream_nodes = c2vsimfg.get_n_stream_nodes_upstream_of_stream_node(int(sn))\n",
    "    if n_upstream_stream_nodes != 1:\n",
    "        print(sn, n_upstream_stream_nodes)"
   ]
  },
  {
   "cell_type": "code",
   "execution_count": null,
   "metadata": {},
   "outputs": [],
   "source": [
    "c2vsimfg.get_stream_nodes_upstream_of_stream_node(1)"
   ]
  },
  {
   "cell_type": "code",
   "execution_count": null,
   "metadata": {},
   "outputs": [],
   "source": [
    "c2vsimfg.get_stream_bottom_elevations()"
   ]
  },
  {
   "cell_type": "code",
   "execution_count": null,
   "metadata": {},
   "outputs": [],
   "source": [
    "c2vsimfg.get_n_rating_table_points(1)"
   ]
  },
  {
   "cell_type": "code",
   "execution_count": null,
   "metadata": {},
   "outputs": [],
   "source": [
    "c2vsimfg.get_stream_rating_table(1)"
   ]
  },
  {
   "cell_type": "code",
   "execution_count": null,
   "metadata": {},
   "outputs": [],
   "source": [
    "c2vsimfg.get_n_stream_inflows()"
   ]
  },
  {
   "cell_type": "code",
   "execution_count": null,
   "metadata": {},
   "outputs": [],
   "source": [
    "c2vsimfg.get_stream_inflow_nodes()"
   ]
  },
  {
   "cell_type": "code",
   "execution_count": null,
   "metadata": {},
   "outputs": [],
   "source": [
    "stream_inflows = c2vsimfg.get_stream_inflow_ids()"
   ]
  },
  {
   "cell_type": "code",
   "execution_count": null,
   "metadata": {},
   "outputs": [],
   "source": [
    "np.all(np.isin(np.array([1]), stream_inflows))"
   ]
  },
  {
   "cell_type": "code",
   "execution_count": null,
   "metadata": {},
   "outputs": [],
   "source": [
    "np.isin([1], stream_inflows)"
   ]
  },
  {
   "cell_type": "code",
   "execution_count": null,
   "metadata": {},
   "outputs": [],
   "source": [
    "c2vsimfg.get_stream_inflows_at_some_locations(1, 1)"
   ]
  },
  {
   "cell_type": "code",
   "execution_count": null,
   "metadata": {},
   "outputs": [],
   "source": [
    "c2vsimfg.get_stream_flow_at_location(1, 1)"
   ]
  },
  {
   "cell_type": "code",
   "execution_count": null,
   "metadata": {},
   "outputs": [],
   "source": [
    "c2vsimfg.get_stream_flows()"
   ]
  },
  {
   "cell_type": "code",
   "execution_count": null,
   "metadata": {},
   "outputs": [],
   "source": [
    "c2vsimfg.get_stream_stages()"
   ]
  },
  {
   "cell_type": "code",
   "execution_count": null,
   "metadata": {},
   "outputs": [],
   "source": [
    "c2vsimfg.get_stream_tributary_inflows()"
   ]
  },
  {
   "cell_type": "code",
   "execution_count": null,
   "metadata": {},
   "outputs": [],
   "source": [
    "c2vsimfg.get_stream_rainfall_runoff()"
   ]
  },
  {
   "cell_type": "code",
   "execution_count": null,
   "metadata": {},
   "outputs": [],
   "source": [
    "c2vsimfg.get_stream_return_flows()"
   ]
  },
  {
   "cell_type": "code",
   "execution_count": null,
   "metadata": {},
   "outputs": [],
   "source": [
    "c2vsimfg.get_stream_tile_drain_flows()"
   ]
  },
  {
   "cell_type": "code",
   "execution_count": null,
   "metadata": {},
   "outputs": [],
   "source": [
    "c2vsimfg.get_stream_riparian_evapotranspiration()"
   ]
  },
  {
   "cell_type": "code",
   "execution_count": null,
   "metadata": {},
   "outputs": [],
   "source": [
    "c2vsimfg.get_stream_gain_from_groundwater()"
   ]
  },
  {
   "cell_type": "code",
   "execution_count": null,
   "metadata": {},
   "outputs": [],
   "source": [
    "c2vsimfg.get_stream_gain_from_lakes()"
   ]
  },
  {
   "cell_type": "code",
   "execution_count": null,
   "metadata": {},
   "outputs": [],
   "source": [
    "c2vsimfg.get_net_bypass_inflows()"
   ]
  },
  {
   "cell_type": "code",
   "execution_count": null,
   "metadata": {},
   "outputs": [],
   "source": [
    "c2vsimfg.get_actual_stream_diversions_at_some_locations([1], 1)"
   ]
  },
  {
   "cell_type": "code",
   "execution_count": null,
   "metadata": {},
   "outputs": [],
   "source": [
    "c2vsimfg.get_stream_diversion_locations(np.array([1, 2, 3, 4]))"
   ]
  },
  {
   "cell_type": "code",
   "execution_count": null,
   "metadata": {},
   "outputs": [],
   "source": [
    "c2vsimfg.get_n_stream_reaches()"
   ]
  },
  {
   "cell_type": "code",
   "execution_count": null,
   "metadata": {},
   "outputs": [],
   "source": [
    "c2vsimfg.get_stream_reach_ids()"
   ]
  },
  {
   "cell_type": "code",
   "execution_count": null,
   "metadata": {},
   "outputs": [],
   "source": [
    "c2vsimfg.get_n_nodes_in_stream_reach(110)"
   ]
  },
  {
   "cell_type": "code",
   "execution_count": null,
   "metadata": {},
   "outputs": [],
   "source": [
    "c2vsimfg.get_stream_reach_groundwater_nodes(111)"
   ]
  },
  {
   "cell_type": "code",
   "execution_count": null,
   "metadata": {},
   "outputs": [],
   "source": [
    "c2vsimfg.get_stream_reach_stream_nodes(1)"
   ]
  },
  {
   "cell_type": "code",
   "execution_count": null,
   "metadata": {},
   "outputs": [],
   "source": [
    "c2vsimfg.get_upstream_nodes_in_stream_reaches()"
   ]
  },
  {
   "cell_type": "code",
   "execution_count": null,
   "metadata": {},
   "outputs": [],
   "source": [
    "c2vsimfg.get_n_reaches_upstream_of_reach(4)"
   ]
  },
  {
   "cell_type": "code",
   "execution_count": null,
   "metadata": {},
   "outputs": [],
   "source": [
    "c2vsimfg.get_reaches_upstream_of_reach(4)"
   ]
  },
  {
   "cell_type": "code",
   "execution_count": null,
   "metadata": {},
   "outputs": [],
   "source": [
    "c2vsimfg.get_downstream_node_in_stream_reaches()"
   ]
  },
  {
   "cell_type": "code",
   "execution_count": null,
   "metadata": {},
   "outputs": [],
   "source": [
    "c2vsimfg.get_reach_outflow_destination()"
   ]
  },
  {
   "cell_type": "code",
   "execution_count": null,
   "metadata": {},
   "outputs": [],
   "source": [
    "c2vsimfg.get_reach_outflow_destination_types()"
   ]
  },
  {
   "cell_type": "code",
   "execution_count": null,
   "metadata": {},
   "outputs": [],
   "source": [
    "c2vsimfg.get_n_diversions()"
   ]
  },
  {
   "cell_type": "code",
   "execution_count": null,
   "metadata": {},
   "outputs": [],
   "source": [
    "c2vsimfg.get_diversion_ids()"
   ]
  },
  {
   "cell_type": "code",
   "execution_count": null,
   "metadata": {},
   "outputs": [],
   "source": [
    "c2vsimfg.get_n_lakes()"
   ]
  },
  {
   "cell_type": "code",
   "execution_count": null,
   "metadata": {},
   "outputs": [],
   "source": [
    "c2vsimfg.get_lake_ids()"
   ]
  },
  {
   "cell_type": "code",
   "execution_count": null,
   "metadata": {},
   "outputs": [],
   "source": [
    "c2vsimfg.get_n_elements_in_lake(1)"
   ]
  },
  {
   "cell_type": "code",
   "execution_count": null,
   "metadata": {},
   "outputs": [],
   "source": [
    "c2vsimfg.get_elements_in_lake(1)"
   ]
  },
  {
   "cell_type": "code",
   "execution_count": null,
   "metadata": {},
   "outputs": [],
   "source": [
    "c2vsimfg.get_n_tile_drains()"
   ]
  },
  {
   "cell_type": "code",
   "execution_count": null,
   "metadata": {},
   "outputs": [],
   "source": [
    "c2vsimfg.get_tile_drain_ids()"
   ]
  },
  {
   "cell_type": "code",
   "execution_count": null,
   "metadata": {},
   "outputs": [],
   "source": [
    "c2vsimfg.get_tile_drain_nodes()"
   ]
  },
  {
   "cell_type": "code",
   "execution_count": null,
   "metadata": {},
   "outputs": [],
   "source": [
    "c2vsimfg.get_n_layers()"
   ]
  },
  {
   "cell_type": "code",
   "execution_count": null,
   "metadata": {},
   "outputs": [],
   "source": [
    "c2vsimfg.get_ground_surface_elevation()"
   ]
  },
  {
   "cell_type": "code",
   "execution_count": null,
   "metadata": {},
   "outputs": [],
   "source": [
    "c2vsimfg.get_aquifer_top_elevation()"
   ]
  },
  {
   "cell_type": "code",
   "execution_count": null,
   "metadata": {},
   "outputs": [],
   "source": [
    "c2vsimfg.get_aquifer_bottom_elevation()"
   ]
  },
  {
   "cell_type": "code",
   "execution_count": null,
   "metadata": {},
   "outputs": [],
   "source": [
    "c2vsimfg.get_stratigraphy_atXYcoordinate(592798.7048, 4209815.426, 3.2808)"
   ]
  },
  {
   "cell_type": "code",
   "execution_count": null,
   "metadata": {},
   "outputs": [],
   "source": [
    "c2vsimfg.get_aquifer_horizontal_k()"
   ]
  },
  {
   "cell_type": "code",
   "execution_count": null,
   "metadata": {},
   "outputs": [],
   "source": [
    "c2vsimfg.get_aquifer_vertical_k()"
   ]
  },
  {
   "cell_type": "code",
   "execution_count": null,
   "metadata": {},
   "outputs": [],
   "source": [
    "c2vsimfg.get_aquitard_vertical_k()"
   ]
  },
  {
   "cell_type": "code",
   "execution_count": null,
   "metadata": {},
   "outputs": [],
   "source": [
    "c2vsimfg.get_aquifer_specific_yield()"
   ]
  },
  {
   "cell_type": "code",
   "execution_count": null,
   "metadata": {},
   "outputs": [],
   "source": [
    "c2vsimfg.get_aquifer_specific_storage()"
   ]
  },
  {
   "cell_type": "code",
   "execution_count": null,
   "metadata": {},
   "outputs": [],
   "source": [
    "c2vsimfg.get_aquifer_parameters()"
   ]
  },
  {
   "cell_type": "code",
   "execution_count": null,
   "metadata": {},
   "outputs": [],
   "source": [
    "c2vsimfg.get_n_ag_crops()"
   ]
  },
  {
   "cell_type": "code",
   "execution_count": null,
   "metadata": {},
   "outputs": [],
   "source": [
    "c2vsimfg._get_supply_purpose(6, [1, 2, 3])"
   ]
  },
  {
   "cell_type": "code",
   "execution_count": null,
   "metadata": {},
   "outputs": [],
   "source": [
    "#c2vsimfg.get_location_type_id('subregion')\n",
    "c2vsimfg._get_supply_requirement_ag(2,[1,2,3,4], 1.0)"
   ]
  },
  {
   "cell_type": "code",
   "execution_count": null,
   "metadata": {},
   "outputs": [],
   "source": [
    "c2vsimfg._get_supply_requirement_urban(2, [1,2,3,4], 1.0)"
   ]
  },
  {
   "cell_type": "code",
   "execution_count": null,
   "metadata": {},
   "outputs": [],
   "source": [
    "c2vsimfg._get_supply_shortage_at_origin_ag(6, [1, 2, 3], 1.0)"
   ]
  },
  {
   "cell_type": "code",
   "execution_count": null,
   "metadata": {},
   "outputs": [],
   "source": [
    "c2vsimfg._get_supply_shortage_at_origin_urban(6, [1, 2, 3], 1.0)"
   ]
  },
  {
   "cell_type": "code",
   "execution_count": null,
   "metadata": {},
   "outputs": [],
   "source": [
    "c2vsimfg.get_subregion_names()"
   ]
  },
  {
   "cell_type": "code",
   "execution_count": null,
   "metadata": {},
   "outputs": [],
   "source": [
    "c2vsimfg.get_stream_reach_names()"
   ]
  },
  {
   "cell_type": "code",
   "execution_count": null,
   "metadata": {},
   "outputs": [],
   "source": [
    "c2vsimfg.get_groundwater_observation_names()"
   ]
  },
  {
   "cell_type": "code",
   "execution_count": null,
   "metadata": {},
   "outputs": [],
   "source": [
    "c2vsimfg.get_subsidence_observation_names()"
   ]
  },
  {
   "cell_type": "code",
   "execution_count": null,
   "metadata": {},
   "outputs": [],
   "source": [
    "c2vsimfg.get_n_hydrograph_types()"
   ]
  },
  {
   "cell_type": "code",
   "execution_count": null,
   "metadata": {},
   "outputs": [],
   "source": [
    "c2vsimfg.get_hydrograph_type_list()"
   ]
  },
  {
   "cell_type": "code",
   "execution_count": null,
   "metadata": {},
   "outputs": [],
   "source": [
    "c2vsimfg.get_n_groundwater_hydrographs()"
   ]
  },
  {
   "cell_type": "code",
   "execution_count": null,
   "metadata": {},
   "outputs": [],
   "source": [
    "c2vsimfg.get_n_subsidence_hydrographs()"
   ]
  },
  {
   "cell_type": "code",
   "execution_count": null,
   "metadata": {},
   "outputs": [],
   "source": [
    "c2vsimfg.get_n_stream_hydrographs()"
   ]
  },
  {
   "cell_type": "code",
   "execution_count": null,
   "metadata": {},
   "outputs": [],
   "source": [
    "c2vsimfg.get_n_tile_drain_hydrographs()"
   ]
  },
  {
   "cell_type": "code",
   "execution_count": null,
   "metadata": {},
   "outputs": [],
   "source": [
    "c2vsimfg.get_groundwater_hydrograph_ids()"
   ]
  },
  {
   "cell_type": "code",
   "execution_count": null,
   "metadata": {},
   "outputs": [],
   "source": [
    "c2vsimfg.get_subsidence_hydrograph_ids()"
   ]
  },
  {
   "cell_type": "code",
   "execution_count": null,
   "metadata": {},
   "outputs": [],
   "source": [
    "c2vsimfg.get_stream_hydrograph_ids()"
   ]
  },
  {
   "cell_type": "code",
   "execution_count": null,
   "metadata": {},
   "outputs": [],
   "source": [
    "c2vsimfg.get_tile_drain_hydrograph_ids()"
   ]
  },
  {
   "cell_type": "code",
   "execution_count": null,
   "metadata": {},
   "outputs": [],
   "source": [
    "c2vsimfg.get_groundwater_hydrograph_coordinates()"
   ]
  },
  {
   "cell_type": "code",
   "execution_count": null,
   "metadata": {},
   "outputs": [],
   "source": [
    "c2vsimfg.get_subsidence_observation_coordinates()"
   ]
  },
  {
   "cell_type": "code",
   "execution_count": null,
   "metadata": {},
   "outputs": [],
   "source": [
    "c2vsimfg.get_stream_observation_coordinates()"
   ]
  },
  {
   "cell_type": "code",
   "execution_count": null,
   "metadata": {},
   "outputs": [],
   "source": [
    "c2vsimfg.get_tile_drain_observation_coordinates()"
   ]
  },
  {
   "cell_type": "code",
   "execution_count": null,
   "metadata": {},
   "outputs": [],
   "source": [
    "c2vsimfg.get_groundwater_hydrograph(1)"
   ]
  },
  {
   "cell_type": "code",
   "execution_count": null,
   "metadata": {},
   "outputs": [],
   "source": [
    "c2vsimfg.get_groundwater_hydrograph_at_node_and_layer(1,1)"
   ]
  },
  {
   "cell_type": "code",
   "execution_count": null,
   "metadata": {},
   "outputs": [],
   "source": [
    "c2vsimfg.get_subsidence_hydrograph(1)"
   ]
  },
  {
   "cell_type": "code",
   "execution_count": null,
   "metadata": {},
   "outputs": [],
   "source": [
    "c2vsimfg.get_stream_hydrograph(2741)"
   ]
  },
  {
   "cell_type": "code",
   "execution_count": null,
   "metadata": {},
   "outputs": [],
   "source": [
    "c2vsimfg.get_location_type_id_smallwatershed()"
   ]
  },
  {
   "cell_type": "code",
   "execution_count": null,
   "metadata": {},
   "outputs": [],
   "source": [
    "c2vsimfg.get_n_locations(14)"
   ]
  },
  {
   "cell_type": "code",
   "execution_count": null,
   "metadata": {},
   "outputs": [],
   "source": [
    "c2vsimfg.get_location_ids(14)"
   ]
  },
  {
   "cell_type": "code",
   "execution_count": null,
   "metadata": {},
   "outputs": [],
   "source": [
    "h = c2vsimfg.get_gwheads_all()"
   ]
  },
  {
   "cell_type": "code",
   "execution_count": null,
   "metadata": {},
   "outputs": [],
   "source": [
    "print('{:<6}{:>6}{:>6}'.format('NodeID', 'Layer', 'Head'))\n",
    "for n, node_id in enumerate(c2vsimfg.get_node_ids()):\n",
    "    for l in range(c2vsimfg.get_n_layers()):\n",
    "        print('{:<7d}{:<5d}{:>8.2f}'.format(node_id, l+1, h[l, n]))"
   ]
  },
  {
   "cell_type": "code",
   "execution_count": null,
   "metadata": {},
   "outputs": [],
   "source": [
    "h.T[1]"
   ]
  },
  {
   "cell_type": "code",
   "execution_count": null,
   "metadata": {},
   "outputs": [],
   "source": [
    "c2vsimfg.get_subregion_name(1)"
   ]
  },
  {
   "cell_type": "code",
   "execution_count": null,
   "metadata": {},
   "outputs": [],
   "source": [
    "c2vsimfg.get_location_type_ids()"
   ]
  },
  {
   "cell_type": "markdown",
   "metadata": {},
   "source": [
    "# ZBudget Procedures"
   ]
  },
  {
   "cell_type": "code",
   "execution_count": null,
   "metadata": {},
   "outputs": [],
   "source": [
    "from iwfmdll import IWFM_ZBudget"
   ]
  },
  {
   "cell_type": "code",
   "execution_count": null,
   "metadata": {},
   "outputs": [],
   "source": [
    "zbudget_file = r'C:\\temp\\C2VSimFG_V1_01_BCM_precip\\Results\\C2VSimFG_GW_ZBudget.hdf'\n",
    "zone_definition_file = r'C:\\temp\\C2VSimFG_V1_01_BCM_precip\\Zbudget\\C2VSimFG_ZBudget_SR.dat'"
   ]
  },
  {
   "cell_type": "code",
   "execution_count": null,
   "metadata": {},
   "outputs": [],
   "source": [
    "z = IWFM_ZBudget(dll_file, zbudget_file)"
   ]
  },
  {
   "cell_type": "code",
   "execution_count": null,
   "metadata": {},
   "outputs": [],
   "source": [
    "z.generate_zone_list_from_file(zone_definition_file)"
   ]
  },
  {
   "cell_type": "code",
   "execution_count": null,
   "metadata": {},
   "outputs": [],
   "source": [
    "z.get_zone_extent_id_horizontal()"
   ]
  },
  {
   "cell_type": "code",
   "execution_count": null,
   "metadata": {},
   "outputs": [],
   "source": [
    "elem = np.arange(1, 32538)"
   ]
  },
  {
   "cell_type": "code",
   "execution_count": null,
   "metadata": {},
   "outputs": [],
   "source": [
    "layer = np.zeros(32537, dtype=np.int)"
   ]
  },
  {
   "cell_type": "code",
   "execution_count": null,
   "metadata": {},
   "outputs": [],
   "source": [
    "zones = np.ones(32537, dtype=np.int)"
   ]
  },
  {
   "cell_type": "code",
   "execution_count": null,
   "metadata": {},
   "outputs": [],
   "source": [
    "z._generate_zone_list(1, elem, layer, zones, ['model'])"
   ]
  },
  {
   "cell_type": "code",
   "execution_count": null,
   "metadata": {},
   "outputs": [],
   "source": [
    "z.get_n_zones()"
   ]
  },
  {
   "cell_type": "code",
   "execution_count": null,
   "metadata": {},
   "outputs": [],
   "source": [
    "z.get_title_lines(1, 3.58701e-8, 'SQ. MI.', 'AF')"
   ]
  },
  {
   "cell_type": "code",
   "execution_count": null,
   "metadata": {},
   "outputs": [],
   "source": [
    "general_names = z._get_column_headers_general()"
   ]
  },
  {
   "cell_type": "code",
   "execution_count": null,
   "metadata": {},
   "outputs": [],
   "source": [
    "general_names"
   ]
  },
  {
   "cell_type": "code",
   "execution_count": null,
   "metadata": {},
   "outputs": [],
   "source": [
    "headers, ids = z.get_column_headers_for_a_zone(1)"
   ]
  },
  {
   "cell_type": "code",
   "execution_count": null,
   "metadata": {},
   "outputs": [],
   "source": [
    "headers"
   ]
  },
  {
   "cell_type": "code",
   "execution_count": null,
   "metadata": {},
   "outputs": [],
   "source": [
    "dts, values = z.get_values_for_a_zone(1)"
   ]
  },
  {
   "cell_type": "code",
   "execution_count": null,
   "metadata": {},
   "outputs": [],
   "source": [
    "df = pd.DataFrame(data=values, index=dts, columns=headers)"
   ]
  },
  {
   "cell_type": "code",
   "execution_count": null,
   "metadata": {},
   "outputs": [],
   "source": [
    "df"
   ]
  },
  {
   "cell_type": "code",
   "execution_count": null,
   "metadata": {},
   "outputs": [],
   "source": [
    "z.get_values_for_some_zones_for_an_interval(1, 2, output_interval='1YEAR', volume_conversion_factor=2.29569e-8)"
   ]
  },
  {
   "cell_type": "markdown",
   "metadata": {},
   "source": [
    "# MISC Procedures"
   ]
  },
  {
   "cell_type": "code",
   "execution_count": null,
   "metadata": {},
   "outputs": [],
   "source": [
    "iwfm_misc = IWFM_Miscellaneous(dll_file)"
   ]
  },
  {
   "cell_type": "code",
   "execution_count": null,
   "metadata": {},
   "outputs": [],
   "source": [
    "iwfm_misc.get_data_unit_type_ids()"
   ]
  },
  {
   "cell_type": "code",
   "execution_count": null,
   "metadata": {},
   "outputs": [],
   "source": [
    "iwfm_misc.get_data_unit_type_id_length()"
   ]
  },
  {
   "cell_type": "code",
   "execution_count": null,
   "metadata": {},
   "outputs": [],
   "source": [
    "iwfm_misc.get_data_unit_type_id_area()"
   ]
  },
  {
   "cell_type": "code",
   "execution_count": null,
   "metadata": {},
   "outputs": [],
   "source": [
    "iwfm_misc.get_data_unit_type_volume()"
   ]
  },
  {
   "cell_type": "code",
   "execution_count": null,
   "metadata": {},
   "outputs": [],
   "source": [
    "iwfm_misc.get_flow_destination_type_id()"
   ]
  },
  {
   "cell_type": "code",
   "execution_count": null,
   "metadata": {},
   "outputs": [],
   "source": [
    "iwfm_misc.get_flow_destination_type_id_outside()"
   ]
  },
  {
   "cell_type": "code",
   "execution_count": null,
   "metadata": {},
   "outputs": [],
   "source": [
    "iwfm_misc.get_flow_destination_type_id_streamnode()"
   ]
  },
  {
   "cell_type": "code",
   "execution_count": null,
   "metadata": {},
   "outputs": [],
   "source": [
    "iwfm_misc.get_flow_destination_type_id_element()"
   ]
  },
  {
   "cell_type": "code",
   "execution_count": null,
   "metadata": {},
   "outputs": [],
   "source": [
    "iwfm_misc.get_flow_destination_type_id_lake()"
   ]
  },
  {
   "cell_type": "code",
   "execution_count": null,
   "metadata": {},
   "outputs": [],
   "source": [
    "iwfm_misc.get_flow_destination_type_id_subregion()"
   ]
  },
  {
   "cell_type": "code",
   "execution_count": null,
   "metadata": {},
   "outputs": [],
   "source": [
    "iwfm_misc.get_flow_destination_type_id_gwelement()"
   ]
  },
  {
   "cell_type": "code",
   "execution_count": null,
   "metadata": {},
   "outputs": [],
   "source": [
    "iwfm_misc.get_flow_destination_type_id_elementset()"
   ]
  },
  {
   "cell_type": "code",
   "execution_count": null,
   "metadata": {},
   "outputs": [],
   "source": [
    "iwfm_misc.get_location_type_ids()"
   ]
  },
  {
   "cell_type": "code",
   "execution_count": null,
   "metadata": {},
   "outputs": [],
   "source": [
    "iwfm_misc.get_location_type_id_node()"
   ]
  },
  {
   "cell_type": "code",
   "execution_count": null,
   "metadata": {},
   "outputs": [],
   "source": [
    "iwfm_misc.get_location_type_id_element()"
   ]
  },
  {
   "cell_type": "code",
   "execution_count": null,
   "metadata": {},
   "outputs": [],
   "source": [
    "iwfm_misc.get_location_type_id_subregion()"
   ]
  },
  {
   "cell_type": "code",
   "execution_count": null,
   "metadata": {},
   "outputs": [],
   "source": [
    "iwfm_misc.get_location_type_id_zone()"
   ]
  },
  {
   "cell_type": "code",
   "execution_count": null,
   "metadata": {},
   "outputs": [],
   "source": [
    "iwfm_misc.get_location_type_id_lake()"
   ]
  },
  {
   "cell_type": "code",
   "execution_count": null,
   "metadata": {},
   "outputs": [],
   "source": [
    "iwfm_misc.get_location_type_id_streamnode()"
   ]
  },
  {
   "cell_type": "code",
   "execution_count": null,
   "metadata": {},
   "outputs": [],
   "source": [
    "iwfm_misc.get_location_type_id_streamreach()"
   ]
  },
  {
   "cell_type": "code",
   "execution_count": null,
   "metadata": {},
   "outputs": [],
   "source": [
    "iwfm_misc.get_location_type_id_tiledrainobs()"
   ]
  },
  {
   "cell_type": "code",
   "execution_count": null,
   "metadata": {},
   "outputs": [],
   "source": [
    "iwfm_misc.get_location_type_id_smallwatershed()"
   ]
  },
  {
   "cell_type": "code",
   "execution_count": null,
   "metadata": {},
   "outputs": [],
   "source": [
    "iwfm_misc.get_location_type_id_gwheadobs()"
   ]
  },
  {
   "cell_type": "code",
   "execution_count": null,
   "metadata": {},
   "outputs": [],
   "source": [
    "iwfm_misc.get_location_type_id_streamhydobs()"
   ]
  },
  {
   "cell_type": "code",
   "execution_count": null,
   "metadata": {},
   "outputs": [],
   "source": [
    "iwfm_misc.get_location_type_id_subsidenceobs()"
   ]
  },
  {
   "cell_type": "code",
   "execution_count": null,
   "metadata": {},
   "outputs": [],
   "source": [
    "iwfm_misc.get_location_type_id_streamnodebud()"
   ]
  },
  {
   "cell_type": "code",
   "execution_count": null,
   "metadata": {},
   "outputs": [],
   "source": [
    "iwfm_misc.get_supply_type_id_diversion()"
   ]
  },
  {
   "cell_type": "code",
   "execution_count": null,
   "metadata": {},
   "outputs": [],
   "source": [
    "iwfm_misc.get_supply_type_id_well()"
   ]
  },
  {
   "cell_type": "code",
   "execution_count": null,
   "metadata": {},
   "outputs": [],
   "source": [
    "iwfm_misc.get_supply_type_id_elempump()"
   ]
  },
  {
   "cell_type": "code",
   "execution_count": null,
   "metadata": {},
   "outputs": [],
   "source": [
    "iwfm_misc.get_zone_extent_ids()"
   ]
  },
  {
   "cell_type": "code",
   "execution_count": null,
   "metadata": {},
   "outputs": [],
   "source": [
    "iwfm_misc.get_zone_extent_id_horizontal()"
   ]
  },
  {
   "cell_type": "code",
   "execution_count": null,
   "metadata": {},
   "outputs": [],
   "source": [
    "iwfm_misc.get_zone_extent_id_vertical()"
   ]
  },
  {
   "cell_type": "code",
   "execution_count": null,
   "metadata": {},
   "outputs": [],
   "source": [
    "iwfm_misc.get_budget_type_ids()"
   ]
  },
  {
   "cell_type": "code",
   "execution_count": null,
   "metadata": {},
   "outputs": [],
   "source": [
    "iwfm_misc.get_zbudget_type_ids()"
   ]
  },
  {
   "cell_type": "code",
   "execution_count": null,
   "metadata": {},
   "outputs": [],
   "source": [
    "iwfm_misc.get_version()"
   ]
  },
  {
   "cell_type": "code",
   "execution_count": null,
   "metadata": {},
   "outputs": [],
   "source": [
    "iwfm_misc.get_n_intervals('09/30/2011_24:00', '11/30/2012_24:00', '1MON')"
   ]
  },
  {
   "cell_type": "code",
   "execution_count": null,
   "metadata": {},
   "outputs": [],
   "source": [
    "iwfm_misc.increment_time('09/30/2011_24:00', '1MON', 3)"
   ]
  },
  {
   "cell_type": "code",
   "execution_count": null,
   "metadata": {},
   "outputs": [],
   "source": [
    "iwfm_misc.is_date_greater('03/31/1990_24:00', '09/30/1985_24:00')"
   ]
  },
  {
   "cell_type": "code",
   "execution_count": null,
   "metadata": {},
   "outputs": [],
   "source": []
  },
  {
   "cell_type": "code",
   "execution_count": null,
   "metadata": {},
   "outputs": [],
   "source": []
  },
  {
   "cell_type": "code",
   "execution_count": null,
   "metadata": {},
   "outputs": [],
   "source": [
    "c2vsimfg.get_hydrograph_type_list()"
   ]
  },
  {
   "cell_type": "code",
   "execution_count": null,
   "metadata": {},
   "outputs": [],
   "source": [
    "c2vsimfg._get_hydrograph(8, 1)"
   ]
  },
  {
   "cell_type": "code",
   "execution_count": null,
   "metadata": {},
   "outputs": [],
   "source": [
    "c2vsimfg.get_gwheads_foralayer(1)"
   ]
  },
  {
   "cell_type": "code",
   "execution_count": null,
   "metadata": {},
   "outputs": [],
   "source": [
    "c2vsimfg._get_location_type_ids()"
   ]
  },
  {
   "cell_type": "code",
   "execution_count": null,
   "metadata": {},
   "outputs": [],
   "source": [
    "c2vsimfg.location_type_ids"
   ]
  },
  {
   "cell_type": "code",
   "execution_count": null,
   "metadata": {},
   "outputs": [],
   "source": [
    "c2vsimfg._get_n_hydrographs(14)"
   ]
  },
  {
   "cell_type": "code",
   "execution_count": null,
   "metadata": {},
   "outputs": [],
   "source": [
    "dir(c2vsimfg)"
   ]
  },
  {
   "cell_type": "code",
   "execution_count": null,
   "metadata": {},
   "outputs": [],
   "source": [
    "c2vsimfg.get_subregions_by_element()"
   ]
  },
  {
   "cell_type": "code",
   "execution_count": null,
   "metadata": {},
   "outputs": [],
   "source": [
    "c2vsimfg.get_element_info()"
   ]
  },
  {
   "cell_type": "code",
   "execution_count": null,
   "metadata": {},
   "outputs": [],
   "source": []
  },
  {
   "cell_type": "code",
   "execution_count": null,
   "metadata": {},
   "outputs": [],
   "source": [
    "%%time\n",
    "begin_date = '09/30/1974_24:00'\n",
    "end_date = '09/30/1975_24:00'\n",
    "\n",
    "iLayer = ctypes.c_int(1)\n",
    "cOutputBeginDateAndTime = ctypes.create_string_buffer(begin_date.encode('utf-8'))\n",
    "cOutputEndDateAndTime = ctypes.create_string_buffer(end_date.encode('utf-8'))\n",
    "iLenDateAndTime = ctypes.c_int(len(begin_date))\n",
    "rFact_LT = ctypes.c_double(1.0)\n",
    "iNNodes = ctypes.c_int(30179)\n",
    "iNTime = ctypes.c_int(13)\n",
    "rOutputDates = (ctypes.c_double*iNTime.value)()\n",
    "rGWHeads = ((ctypes.c_double*iNNodes.value)*iNTime.value)()\n",
    "#rGWHeads = ((ctypes.c_double*iNTime.value)*iNNodes.value)()\n",
    "iStat = ctypes.c_int(-1)\n",
    "\n",
    "c2vsimfg.dll.IW_Model_GetModelData_GWHeadsAll_ForALayer(ctypes.byref(iLayer),\n",
    "                                 cOutputBeginDateAndTime,\n",
    "                                 cOutputEndDateAndTime,\n",
    "                                 ctypes.byref(iLenDateAndTime),\n",
    "                                 ctypes.byref(rFact_LT),\n",
    "                                 ctypes.byref(iNNodes),\n",
    "                                 ctypes.byref(iNTime),\n",
    "                                 rOutputDates,\n",
    "                                 rGWHeads,\n",
    "                                 ctypes.byref(iStat))"
   ]
  },
  {
   "cell_type": "code",
   "execution_count": null,
   "metadata": {},
   "outputs": [],
   "source": [
    "x_coord_m = 564412\n",
    "y_coord_m = 4491740\n",
    "xy_fact = 3.2808"
   ]
  },
  {
   "cell_type": "code",
   "execution_count": null,
   "metadata": {},
   "outputs": [],
   "source": [
    "heads = np.array(rGWHeads)"
   ]
  },
  {
   "cell_type": "code",
   "execution_count": null,
   "metadata": {},
   "outputs": [],
   "source": [
    "heads[0]"
   ]
  },
  {
   "cell_type": "code",
   "execution_count": null,
   "metadata": {},
   "outputs": [],
   "source": [
    "with open(r'C:\\Users\\hatch\\Desktop\\IWFM\\IWFM_DLL\\procedures_check.txt', 'w') as out_file:\n",
    "    with open(r'C:\\Users\\hatch\\Desktop\\IWFM\\IWFM_DLL\\dll_procedures.txt', 'r') as in_file:\n",
    "        for line in in_file:\n",
    "            if hasattr(c2vsimfg.dll, line.strip()):\n",
    "                check_procedure = 'PASS'\n",
    "            else:\n",
    "                check_procedure = 'FAIL'\n",
    "                \n",
    "            out_file.write(\"{} - {}\\n\".format(check_procedure, line.strip()))        "
   ]
  },
  {
   "cell_type": "code",
   "execution_count": null,
   "metadata": {},
   "outputs": [],
   "source": [
    "c2vsimfg.get_element_config(1)"
   ]
  },
  {
   "cell_type": "code",
   "execution_count": null,
   "metadata": {},
   "outputs": [],
   "source": [
    "c2vsimfg.get_node_ids()"
   ]
  },
  {
   "cell_type": "code",
   "execution_count": null,
   "metadata": {},
   "outputs": [],
   "source": [
    "c2vsimfg.get_node_coordinates()"
   ]
  },
  {
   "cell_type": "code",
   "execution_count": null,
   "metadata": {},
   "outputs": [],
   "source": [
    "c2vsimfg.get_element_info()"
   ]
  },
  {
   "cell_type": "code",
   "execution_count": null,
   "metadata": {},
   "outputs": [],
   "source": [
    "elem_data = c2vsimfg.get_element_spatial_info()"
   ]
  },
  {
   "cell_type": "code",
   "execution_count": null,
   "metadata": {},
   "outputs": [],
   "source": [
    "fig, ax =plt.subplots(figsize=(6,11))\n",
    "c2vsimfg.plot_elements(ax) #, write_to_file=True, file_name=r'C:\\temp\\C2VSimFG_v0.3.5\\elements.png')"
   ]
  },
  {
   "cell_type": "code",
   "execution_count": null,
   "metadata": {},
   "outputs": [],
   "source": [
    "version_info = c2vsimfg.get_version()\n",
    "version_info.split('\\n')"
   ]
  },
  {
   "cell_type": "code",
   "execution_count": null,
   "metadata": {},
   "outputs": [],
   "source": [
    "c2vsimfg.get_n_layers()"
   ]
  },
  {
   "cell_type": "code",
   "execution_count": null,
   "metadata": {},
   "outputs": [],
   "source": [
    "c2vsimfg.get_stratigraphy_atXYcoordinate(x_coord_m, y_coord_m, xy_fact, output_options='combined')"
   ]
  },
  {
   "cell_type": "code",
   "execution_count": null,
   "metadata": {},
   "outputs": [],
   "source": [
    "c2vsimfg.get_location_type_id('gw_head_obs')"
   ]
  },
  {
   "cell_type": "code",
   "execution_count": null,
   "metadata": {},
   "outputs": [],
   "source": [
    "c2vsimfg.get_hydrograph_coordinates('gw_head_obs')"
   ]
  },
  {
   "cell_type": "code",
   "execution_count": null,
   "metadata": {},
   "outputs": [],
   "source": [
    "c2vsimfg.get_names('gw_head_obs')"
   ]
  },
  {
   "cell_type": "code",
   "execution_count": null,
   "metadata": {},
   "outputs": [],
   "source": [
    "data_list = c2vsimfg.get_data_list('element')\n",
    "if data_list:\n",
    "    print(data_list)"
   ]
  },
  {
   "cell_type": "code",
   "execution_count": null,
   "metadata": {},
   "outputs": [],
   "source": [
    "c2vsimfg.get_n_hydrographs('gw_head_obs')"
   ]
  },
  {
   "cell_type": "code",
   "execution_count": null,
   "metadata": {},
   "outputs": [],
   "source": [
    "c2vsimfg.get_n_hydrographs('tile_drain')"
   ]
  },
  {
   "cell_type": "code",
   "execution_count": null,
   "metadata": {},
   "outputs": [],
   "source": [
    "c2vsimfg.get_n_hydrographs('stream_hydrograph_obs')"
   ]
  },
  {
   "cell_type": "code",
   "execution_count": null,
   "metadata": {},
   "outputs": [],
   "source": [
    "c2vsimfg.get_n_hydrographs('subsidence_obs')"
   ]
  },
  {
   "cell_type": "code",
   "execution_count": null,
   "metadata": {},
   "outputs": [],
   "source": [
    "c2vsimfg.get_n_hydrographs('node')"
   ]
  },
  {
   "cell_type": "code",
   "execution_count": null,
   "metadata": {},
   "outputs": [],
   "source": [
    "start_date, end_date, time_interval = c2vsimfg.get_time_specs()"
   ]
  },
  {
   "cell_type": "code",
   "execution_count": null,
   "metadata": {},
   "outputs": [],
   "source": [
    "print(start_date)\n",
    "print(end_date)\n",
    "print(time_interval)"
   ]
  },
  {
   "cell_type": "code",
   "execution_count": null,
   "metadata": {},
   "outputs": [],
   "source": [
    "c2vsimfg.get_n_data_list('node')"
   ]
  },
  {
   "cell_type": "code",
   "execution_count": null,
   "metadata": {},
   "outputs": [],
   "source": [
    "c2vsimfg.get_data_list('node')"
   ]
  },
  {
   "cell_type": "code",
   "execution_count": null,
   "metadata": {},
   "outputs": [],
   "source": [
    "c2vsimfg.get_sub_data_list('node', 0)"
   ]
  },
  {
   "cell_type": "code",
   "execution_count": null,
   "metadata": {},
   "outputs": [],
   "source": [
    "c2vsimfg._has_sub_data_list('tile_drain', 0)"
   ]
  },
  {
   "cell_type": "code",
   "execution_count": null,
   "metadata": {},
   "outputs": [],
   "source": [
    "c2vsimfg.get_output_interval('subregion', 0)"
   ]
  },
  {
   "cell_type": "code",
   "execution_count": null,
   "metadata": {},
   "outputs": [],
   "source": [
    "c2vsimfg.get_n_intervals(start_date, end_date, time_interval)"
   ]
  },
  {
   "cell_type": "code",
   "execution_count": null,
   "metadata": {},
   "outputs": [],
   "source": [
    "c2vsimfg.is_date_greater(start_date, end_date)"
   ]
  },
  {
   "cell_type": "code",
   "execution_count": null,
   "metadata": {},
   "outputs": [],
   "source": [
    "c2vsimfg.get_data_unit_id('volume')"
   ]
  },
  {
   "cell_type": "code",
   "execution_count": null,
   "metadata": {},
   "outputs": [],
   "source": [
    "#dts, data = c2vsimfg.get_model_data('gw_head_obs', 1, 0, -1, start_date, end_date, time_interval)\n",
    "dts, data = c2vsimfg.get_model_data('node', 1, 0, -1, start_date, end_date, time_interval)"
   ]
  },
  {
   "cell_type": "code",
   "execution_count": null,
   "metadata": {},
   "outputs": [],
   "source": [
    "data"
   ]
  },
  {
   "cell_type": "code",
   "execution_count": null,
   "metadata": {},
   "outputs": [],
   "source": [
    "hydrograph_stratigraphy = c2vsimfg.get_hydrograph_info('gw_head_obs')"
   ]
  },
  {
   "cell_type": "code",
   "execution_count": null,
   "metadata": {},
   "outputs": [],
   "source": [
    "hydrograph_stratigraphy"
   ]
  },
  {
   "cell_type": "code",
   "execution_count": null,
   "metadata": {},
   "outputs": [],
   "source": [
    "dates, heads = c2vsimfg.get_gwheadsall_foralayer(1, '09/30/2010', '09/30/2015')"
   ]
  },
  {
   "cell_type": "code",
   "execution_count": null,
   "metadata": {},
   "outputs": [],
   "source": [
    "count_well_names = hydrograph_stratigraphy.groupby('Name')['id'].count().to_frame()\n",
    "count_well_names.reset_index(inplace=True)"
   ]
  },
  {
   "cell_type": "code",
   "execution_count": null,
   "metadata": {},
   "outputs": [],
   "source": [
    "count_well_names[count_well_names['id'] > 4]"
   ]
  },
  {
   "cell_type": "code",
   "execution_count": null,
   "metadata": {},
   "outputs": [],
   "source": [
    "hydrograph_id = 1\n",
    "hydrograph_df = pd.DataFrame({'date': dts, 'head': data})\n",
    "hydrograph_df['GSE'] = hydrograph_stratigraphy[hydrograph_stratigraphy['id']==hydrograph_id]['GSE'].values[0]"
   ]
  },
  {
   "cell_type": "code",
   "execution_count": null,
   "metadata": {},
   "outputs": [],
   "source": [
    "observed_data_path = r'C:\\temp\\C2VSimFG_v0.3.5\\ObservedData'\n",
    "observed_data = 'Observed_GW_Levels.csv'\n",
    "observed_gw_levels = pd.read_csv(os.path.join(observed_data_path, observed_data))\n",
    "observed_gw_levels['Date'] = pd.to_datetime(observed_gw_levels['Date'], format='%Y-%m-%d')"
   ]
  },
  {
   "cell_type": "code",
   "execution_count": null,
   "metadata": {},
   "outputs": [],
   "source": [
    "hydrograph_stratigraphy[hydrograph_stratigraphy['Name'].isin(observed_gw_levels['Well_Name'].unique())]"
   ]
  },
  {
   "cell_type": "code",
   "execution_count": null,
   "metadata": {},
   "outputs": [],
   "source": [
    "observed_gw_levels.info()"
   ]
  },
  {
   "cell_type": "code",
   "execution_count": null,
   "metadata": {},
   "outputs": [],
   "source": [
    "def closest_end_of_month(dt):\n",
    "    ''' returns the date for the end of the closest month to the date provided\n",
    "    \n",
    "    Parameters\n",
    "    ----------\n",
    "    dt : datetime.datetime object\n",
    "        date being converted to end of closest month\n",
    "        \n",
    "    Returns\n",
    "    -------\n",
    "    datetime.datetime\n",
    "        date for the end of the month closest to the date provided\n",
    "    '''\n",
    "    # get number of days between date and end of the previous month\n",
    "    previous_delta = datetime.timedelta(days=dt.day)\n",
    "    \n",
    "    # determine end of the current month\n",
    "    next_month = dt.replace(day=28) + datetime.timedelta(days=4)\n",
    "    end_of_current_month = next_month - datetime.timedelta(days=next_month.day)\n",
    "    \n",
    "    # get number of days between date and end of the current month\n",
    "    next_delta = end_of_current_month - dt\n",
    "    \n",
    "    # use the smaller delta to return the closest\n",
    "    if previous_delta < next_delta:\n",
    "        return dt - previous_delta\n",
    "    else:\n",
    "        return end_of_current_month"
   ]
  },
  {
   "cell_type": "code",
   "execution_count": null,
   "metadata": {},
   "outputs": [],
   "source": [
    "observed_gw_levels['Model_Date'] = observed_gw_levels['Date'].apply(closest_end_of_month)"
   ]
  },
  {
   "cell_type": "code",
   "execution_count": null,
   "metadata": {},
   "outputs": [],
   "source": [
    "# set path for saving plots\n",
    "fig_path = r'C:\\temp\\C2VSimFG_v0.3.5\\Results\\Plots'\n",
    "\n",
    "# generate figure geometry\n",
    "fig = plt.figure(figsize=(17,11))\n",
    "gs = fig.add_gridspec(ncols=7, nrows=6)\n",
    "ax1 = fig.add_subplot(gs[:,:3])\n",
    "ax2 = fig.add_subplot(gs[0:2,3:])\n",
    "ax3 = fig.add_subplot(gs[2:4,3:5])\n",
    "ax4 = fig.add_subplot(gs[2:4,5:])\n",
    "ax5 = fig.add_subplot(gs[4:,3:5])\n",
    "ax6 = fig.add_subplot(gs[4:,5:])\n",
    "ax = (ax3, ax4, ax5, ax6)\n",
    "\n",
    "for well_name in observed_gw_levels['Well_Name'].unique():\n",
    "    hydrograph_ids = hydrograph_stratigraphy[hydrograph_stratigraphy['Name'] == well_name]['id']\n",
    "      \n",
    "    # skip locations where number of hydrographs with a given name exceeds the number of model layers (i.e. duplicates)\n",
    "    if len(hydrograph_ids) > c2vsimfg.get_n_layers():\n",
    "        continue\n",
    "    \n",
    "    for i, hydrograph_id in enumerate(hydrograph_ids):\n",
    "        \n",
    "        # get simulated hydrograph time series\n",
    "        dts, data = c2vsimfg.get_model_data('gw_head_obs', hydrograph_id, 0, -1, start_date, end_date, time_interval)\n",
    "        hydrograph_df = pd.DataFrame({'date': dts, 'head': data})\n",
    "        \n",
    "        # add column for ground surface elevation to simulated hydrograph for plotting\n",
    "        hydrograph_df['GSE'] = hydrograph_stratigraphy[hydrograph_stratigraphy['id']==hydrograph_id]['GSE'].values[0]\n",
    "        \n",
    "        # create simulated v. observed comparision dataset\n",
    "        simulated_v_observed = observed_gw_levels[observed_gw_levels['Well_Name']==well_name].merge(hydrograph_df, left_on='Model_Date',right_on='date')\n",
    "        label = 'simulated layer {}'.format(i+1)\n",
    "        \n",
    "        # plot model elements\n",
    "        c2vsimfg.plot_elements(ax1)\n",
    "        \n",
    "        # plot all observation well locations\n",
    "        ax1.plot(hydrograph_stratigraphy['X'], hydrograph_stratigraphy['Y'], 'k.', markersize=4)\n",
    "        \n",
    "        # plot observation well of interest\n",
    "        ax1.plot(hydrograph_stratigraphy[hydrograph_stratigraphy['Name'] == well_name]['X'], \n",
    "                 hydrograph_stratigraphy[hydrograph_stratigraphy['Name'] == well_name]['Y'], 'ro')\n",
    "        \n",
    "        # annotate observation well of interest\n",
    "        ax1.annotate(well_name, \n",
    "                     xy=(hydrograph_stratigraphy[hydrograph_stratigraphy['Name'] == well_name]['X'].values[0],\n",
    "                         hydrograph_stratigraphy[hydrograph_stratigraphy['Name'] == well_name]['Y'].values[0]),\n",
    "                     xytext=(hydrograph_stratigraphy[hydrograph_stratigraphy['Name'] == well_name]['X'].values[0] + 100000, \n",
    "                             hydrograph_stratigraphy[hydrograph_stratigraphy['Name'] == well_name]['Y'].values[0] - 50000), \n",
    "                     arrowprops=dict(arrowstyle=\"->\", connectionstyle=\"arc3,rad=0.3\", relpos=(0., 0.)))\n",
    "        \n",
    "        # plot simulated hydrograph\n",
    "        ax2.plot('date', 'head', data=hydrograph_df, label=label)\n",
    "        \n",
    "        # plot simulated v. observed scatter plots\n",
    "        ax[i].plot('GWL', 'head', 'o', data=simulated_v_observed, markerfacecolor='none')\n",
    "        ax[i].plot('GWL', 'GWL', 'k', data=observed_gw_levels[observed_gw_levels['Well_Name']==well_name])\n",
    "        ax[i].set_title(\"Simulated v. Observed for Layer {}\".format(i+1))\n",
    "        ax[i].set_xlabel('Observed Head (ft)')\n",
    "        ax[i].set_ylabel('Simulated Head (ft)')\n",
    "        ax[i].grid()\n",
    "    \n",
    "    # plot observed data hydrograph\n",
    "    ax2.plot('Date', 'GWL', 'o', data=observed_gw_levels[observed_gw_levels['Well_Name'] == well_name], \n",
    "             markerfacecolor='none', label='observed')\n",
    "    \n",
    "    # plot ground surface elevation\n",
    "    ax2.axhline(hydrograph_stratigraphy[hydrograph_stratigraphy['id']==hydrograph_id]['GSE'].values[0],\n",
    "                color='brown',\n",
    "                label='ground surface')\n",
    "    \n",
    "    # format plot layout\n",
    "    ax1.grid()\n",
    "    ax2.set_title('Groundwater Hydrographs for Well {}'.format(well_name))\n",
    "    ax2.set_ylabel('Head (ft)')\n",
    "    ax2.set_xlabel('Time')\n",
    "    ax2.set_xlim(left=hydrograph_df['date'].min(), right=hydrograph_df['date'].max())\n",
    "    ax2.grid()\n",
    "    ax2.legend(loc='right', ncol=1, bbox_to_anchor=(1.0, 0.75))\n",
    "    gs.tight_layout(fig)\n",
    "    \n",
    "    # save figure to file\n",
    "    fig_name = 'Hydrograph_Well_{}.png'.format(well_name)\n",
    "    plt.savefig(os.path.join(fig_path, fig_name))\n",
    "    \n",
    "    # clear axes\n",
    "    ax1.cla()\n",
    "    ax2.cla()\n",
    "    ax3.cla()\n",
    "    ax4.cla()\n",
    "    ax5.cla()\n",
    "    ax6.cla()\n",
    "    \n",
    "# clear figure\n",
    "plt.clf()\n",
    "plt.close('all')"
   ]
  },
  {
   "cell_type": "code",
   "execution_count": null,
   "metadata": {},
   "outputs": [],
   "source": [
    "fig = plt.figure(figsize=(17,11))\n",
    "gs = fig.add_gridspec(ncols=7, nrows=6)\n",
    "ax1 = fig.add_subplot(gs[:,:3])\n",
    "ax2 = fig.add_subplot(gs[0:2,3:])\n",
    "ax3 = fig.add_subplot(gs[2:4,3:5])\n",
    "ax4 = fig.add_subplot(gs[2:4,5:])\n",
    "ax5 = fig.add_subplot(gs[4:,3:5])\n",
    "ax6 = fig.add_subplot(gs[4:,5:])\n",
    "# plot model elements\n",
    "c2vsimfg.plot_elements(ax1)\n",
    "\n",
    "# get plot bounds for map\n",
    "xmin, xmax = ax1.get_xlim()\n",
    "ymin, ymax = ax1.get_ylim()\n",
    "\n",
    "print(xmin)\n",
    "print(xmax)\n",
    "print(ymin)\n",
    "print(ymax)\n",
    "\n",
    "# plot all observation well locations\n",
    "ax1.plot(hydrograph_stratigraphy['X'], hydrograph_stratigraphy['Y'], 'k.', markersize=4)\n",
    "\n",
    "well_name = observed_gw_levels['Well_Name'].unique()[0]\n",
    "\n",
    "# plot observation well\n",
    "ax1.plot(hydrograph_stratigraphy[hydrograph_stratigraphy['Name'] == well_name]['X'], \n",
    "         hydrograph_stratigraphy[hydrograph_stratigraphy['Name'] == well_name]['Y'], 'ro')\n",
    "\n",
    "# annotate observation well\n",
    "ann = ax1.annotate('Observation Well:\\n{}'.format(well_name), \n",
    "             xy=(hydrograph_stratigraphy[hydrograph_stratigraphy['Name'] == well_name]['X'].values[0], hydrograph_stratigraphy[hydrograph_stratigraphy['Name'] == well_name]['Y'].values[0]),\n",
    "             xytext=(hydrograph_stratigraphy[hydrograph_stratigraphy['Name'] == well_name]['X'].values[0] + 100000, hydrograph_stratigraphy[hydrograph_stratigraphy['Name'] == well_name]['Y'].values[0] - 50000), \n",
    "             arrowprops=dict(arrowstyle=\"->\", connectionstyle=\"arc3,rad=0.3\", relpos=(0., 0.)))\n",
    "\n",
    "# need to get bounding box for annotation text in data coordinates\n",
    "# need to get closest max and min on x-axis for model elements to y-coordinate of annotation in data coordinates\n",
    "# default label is to right and down of figure with arrow from lower left of text\n",
    "# check that right side of text label does not exceed axis limits\n",
    "# check that left side of text label is greater than the max of the closest model elements\n",
    "\n",
    "\n",
    "\n",
    "# set axis titles\n",
    "ax3.set_title(\"Simulated v. Observed for Layer {}\".format(i+1))\n",
    "ax3.set_xlabel('Observed Head (ft)')\n",
    "ax3.set_ylabel('Simulated Head (ft)')\n",
    "\n",
    "# set figure title\n",
    "#fig.suptitle('This is a somewhat long figure title', fontsize=16)\n",
    "\n",
    "# adjust bounds to fit labels\n",
    "gs.tight_layout(fig)"
   ]
  },
  {
   "cell_type": "code",
   "execution_count": null,
   "metadata": {},
   "outputs": [],
   "source": []
  },
  {
   "cell_type": "code",
   "execution_count": null,
   "metadata": {
    "scrolled": true
   },
   "outputs": [],
   "source": [
    "data"
   ]
  },
  {
   "cell_type": "code",
   "execution_count": null,
   "metadata": {},
   "outputs": [],
   "source": []
  },
  {
   "cell_type": "code",
   "execution_count": null,
   "metadata": {},
   "outputs": [],
   "source": [
    "df"
   ]
  },
  {
   "cell_type": "code",
   "execution_count": null,
   "metadata": {},
   "outputs": [],
   "source": [
    "def is_valid_feature_type(feature_type):\n",
    "    ''' checks that a provided feature type is a valid iwfm feature\n",
    "    \n",
    "    Parameters\n",
    "    ----------\n",
    "    feature_type : str\n",
    "        value to be checked to see if it is a valid IWFM feature type and can be used to generate\n",
    "        a location type id\n",
    "        \n",
    "    Returns\n",
    "    -------\n",
    "    boolean\n",
    "        True if a valid IWFM feature type\n",
    "        i.e. node, element, subregion, zone, lake, stream_node, stream_reach, tile_drain,\n",
    "        small_watershed, gw_head_obs, stream_hydrograph_obs, or subsidence_obs\n",
    "        False otherwise\n",
    "    '''\n",
    "    # check input type is a string\n",
    "    if not isinstance(feature_type, str):\n",
    "        raise TypeError('feature_type must be a string. type entered is {}.'.format(type(feature_type)))\n",
    "    \n",
    "    # list of valid feature types\n",
    "    _valid_feature_types = ['node',\n",
    "                            'element',\n",
    "                            'subregion', \n",
    "                            'zone',\n",
    "                            'lake',\n",
    "                            'stream_node',\n",
    "                            'stream_reach',\n",
    "                            'tile_drain',\n",
    "                            'small_watershed',\n",
    "                            'gw_head_obs',\n",
    "                            'stream_hydrograph_obs',\n",
    "                            'subsidence_obs'\n",
    "                            ]\n",
    "    \n",
    "    if feature_type.lower() not in _valid_feature_types:\n",
    "        return False\n",
    "    \n",
    "    return True   "
   ]
  },
  {
   "cell_type": "code",
   "execution_count": null,
   "metadata": {},
   "outputs": [],
   "source": [
    "is_valid_feature_type('')"
   ]
  },
  {
   "cell_type": "code",
   "execution_count": null,
   "metadata": {},
   "outputs": [],
   "source": [
    "def validate_feature_type(feature_type):\n",
    "    ''' performs validation that a provided feature_type is a valid IWFM feature type\n",
    "    \n",
    "    Parameters\n",
    "    ----------\n",
    "    feature_type : str\n",
    "        value to be validated that it can be used to generate a location type id\n",
    "        \n",
    "    Returns\n",
    "    -------\n",
    "    None\n",
    "        raises errors if validation checks do not pass\n",
    "    '''\n",
    "    # check input type is a string\n",
    "    if not isinstance(feature_type, str):\n",
    "        raise TypeError('feature_type must be a string. type entered is {}.'.format(type(feature_type)))\n",
    "    \n",
    "    # list of valid feature types\n",
    "    _valid_feature_types = ['node',\n",
    "                            'element',\n",
    "                            'subregion', \n",
    "                            'zone',\n",
    "                            'lake',\n",
    "                            'stream_node',\n",
    "                            'stream_reach',\n",
    "                            'tile_drain',\n",
    "                            'small_watershed',\n",
    "                            'gw_head_obs',\n",
    "                            'stream_hydrograph_obs',\n",
    "                            'subsidence_obs'\n",
    "                            ]\n",
    "    \n",
    "    if feature_type.lower() not in _valid_feature_types:\n",
    "        error_string = 'feature_type entered is not a valid IWFM feature type.\\n' + \\\n",
    "                       'feature type must be:\\n\\t-{}'.format('\\n\\t-'.join(_valid_feature_types))\n",
    "        raise ValueError(error_string)"
   ]
  },
  {
   "cell_type": "code",
   "execution_count": null,
   "metadata": {},
   "outputs": [],
   "source": [
    "validate_feature_type('node')"
   ]
  },
  {
   "cell_type": "code",
   "execution_count": null,
   "metadata": {},
   "outputs": [],
   "source": [
    "def _is_valid_iwfm_date(dt):\n",
    "    ''' returns True if date is IWFM-format date string based on:\n",
    "        string length and format MM/DD/YYYY_HH:MM\n",
    "\n",
    "    Parameters\n",
    "    ----------\n",
    "    dt : str\n",
    "        input value to check if IWFM-format date\n",
    "\n",
    "    Returns\n",
    "    -------\n",
    "    boolean\n",
    "        True if format is IWFM date\n",
    "        False if not an IWFM date \n",
    "    '''\n",
    "    if not isinstance(dt, str):\n",
    "        raise TypeError('IWFM dates must be a string')\n",
    "                \n",
    "    if len(dt) != 16:\n",
    "        return False\n",
    "            \n",
    "    if '_' not in dt or dt.index('_') != 10:\n",
    "        return False\n",
    "            \n",
    "    if ':' not in dt or dt.index(':') != 13:\n",
    "        return False\n",
    "            \n",
    "    if dt[2] != '/' or dt[5] != '/':\n",
    "        return False\n",
    "            \n",
    "    try:\n",
    "        datetime.datetime.strptime(dt, '%m/%d/%Y_%H:%M')\n",
    "    except ValueError:\n",
    "        try:\n",
    "            datetime.datetime.strptime(dt.split('_')[0], '%m/%d/%Y')\n",
    "        except ValueError:\n",
    "            return False\n",
    "        else:\n",
    "            try:\n",
    "                hour = int(dt[11:13])\n",
    "                minute = int(dt[15:])\n",
    "            except:\n",
    "                return False\n",
    "            else:\n",
    "                if hour < 0 or hour > 24:\n",
    "                    return False\n",
    "                        \n",
    "                if minute < 0 or minute > 59:\n",
    "                    return False\n",
    "                        \n",
    "                return True\n",
    "    else:\n",
    "        return True"
   ]
  },
  {
   "cell_type": "code",
   "execution_count": null,
   "metadata": {},
   "outputs": [],
   "source": [
    "def validate_iwfm_date(dt):\n",
    "    ''' performs validation that a provided value is an IWFM-format date string based on\n",
    "    string length and format MM/DD/YYYY_HH:MM\n",
    "\n",
    "    Parameters\n",
    "    ----------\n",
    "    dt : str\n",
    "        input value to check if IWFM-format date\n",
    "\n",
    "    Returns\n",
    "    -------\n",
    "    None\n",
    "        raises errors if validation checks do not pass\n",
    "    '''\n",
    "    if not isinstance(dt, str):\n",
    "        raise TypeError('IWFM dates must be a string')\n",
    "                \n",
    "    if len(dt) != 16:\n",
    "        raise ValueError(\"IWFM dates must be 16 characters in length and of format MM/DD/YYYY_HH:MM\")\n",
    "            \n",
    "    if '_' not in dt or dt.index('_') != 10:\n",
    "        raise ValueError(\"IWFM dates must have an '_' separating the date and time\")\n",
    "            \n",
    "    if ':' not in dt or dt.index(':') != 13:\n",
    "        raise ValueError(\"IWFM dates must have an ':' separating the hours from minutes\")\n",
    "            \n",
    "    if dt[2] != '/' or dt[5] != '/':\n",
    "        raise ValueError(\"IWFM dates must use '/' as separators for the month, day, year in the date\")\n",
    "            \n",
    "    try:\n",
    "        datetime.datetime.strptime(dt, '%m/%d/%Y_%H:%M')\n",
    "    except ValueError:\n",
    "        try:\n",
    "            datetime.datetime.strptime(dt.split('_')[0], '%m/%d/%Y')\n",
    "        except ValueError:\n",
    "            raise ValueError(\"Value provided: {} could not be converted to a date\".format(dt))\n",
    "        else:\n",
    "            try:\n",
    "                hour = int(dt[11:13])\n",
    "                minute = int(dt[14:])\n",
    "            except:\n",
    "                raise ValueError(\"hour or minute values are not numbers\")\n",
    "            else:\n",
    "                if hour < 0 or hour > 24:\n",
    "                    raise ValueError(\"hour value is not between 00 and 24\")\n",
    "                        \n",
    "                if minute < 0 or minute > 59:\n",
    "                    raise ValueError(\"minute value is not between 00 and 59\")\n",
    "                    \n",
    "                if hour == 24 and minute > 0:\n",
    "                    raise ValueError(\"days cannot exceed 24:00 hours\")"
   ]
  },
  {
   "cell_type": "code",
   "execution_count": null,
   "metadata": {},
   "outputs": [],
   "source": [
    "d = '02/28/2015_24:00'\n",
    "validate_iwfm_date(d)"
   ]
  },
  {
   "cell_type": "code",
   "execution_count": null,
   "metadata": {},
   "outputs": [],
   "source": [
    "def _validate_time_interval(time_interval):\n",
    "    ''' performs validation that a provided value is an IWFM-format time-interval string\n",
    "\n",
    "    Parameters\n",
    "    ----------\n",
    "    time_interval : str (not case-sensitive)\n",
    "        input value to check if IWFM-format time-interval\n",
    "\n",
    "    Returns\n",
    "    -------\n",
    "    None\n",
    "        raises errors if validation checks do not pass\n",
    "    '''\n",
    "    # check input type is a string\n",
    "    if not isinstance(time_interval, str):\n",
    "        raise TypeError('time_interval must be a string. type entered is {}.'.format(type(time_interval)))\n",
    "        \n",
    "    # list of valid time intervals\n",
    "    _valid_time_intervals = ['1MIN',\n",
    "                             '2MIN',\n",
    "                             '3MIN',\n",
    "                             '4MIN',\n",
    "                             '5MIN',\n",
    "                             '10MIN',\n",
    "                             '15MIN',\n",
    "                             '20MIN',\n",
    "                             '30MIN',\n",
    "                             '1HOUR',\n",
    "                             '2HOUR',\n",
    "                             '3HOUR',\n",
    "                             '4HOUR',\n",
    "                             '6HOUR',\n",
    "                             '8HOUR',\n",
    "                             '12HOUR',\n",
    "                             '1DAY',\n",
    "                             '1WEEK',\n",
    "                             '1MON',\n",
    "                             '1YEAR'\n",
    "                            ]\n",
    "    \n",
    "    if time_interval.upper() not in _valid_time_intervals:\n",
    "        error_string = 'time_interval entered is not a valid IWFM time interval.\\n' + \\\n",
    "                       'time_interval must be:\\n\\t-{}'.format('\\n\\t-'.join(_valid_time_intervals))\n",
    "        raise ValueError(error_string)    "
   ]
  },
  {
   "cell_type": "code",
   "execution_count": null,
   "metadata": {},
   "outputs": [],
   "source": [
    "s = '1mon'"
   ]
  },
  {
   "cell_type": "code",
   "execution_count": null,
   "metadata": {},
   "outputs": [],
   "source": [
    "validate_time_interval(s)"
   ]
  }
 ],
 "metadata": {
  "kernelspec": {
   "display_name": "Python 3",
   "language": "python",
   "name": "python3"
  },
  "language_info": {
   "codemirror_mode": {
    "name": "ipython",
    "version": 3
   },
   "file_extension": ".py",
   "mimetype": "text/x-python",
   "name": "python",
   "nbconvert_exporter": "python",
   "pygments_lexer": "ipython3",
   "version": "3.7.9"
  }
 },
 "nbformat": 4,
 "nbformat_minor": 2
}
